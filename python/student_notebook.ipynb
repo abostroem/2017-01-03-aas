{
 "cells": [
  {
   "cell_type": "code",
   "execution_count": 2,
   "metadata": {
    "collapsed": true
   },
   "outputs": [],
   "source": [
    "import sys\n",
    "#shift+enter executes a cell"
   ]
  },
  {
   "cell_type": "code",
   "execution_count": 3,
   "metadata": {
    "collapsed": false
   },
   "outputs": [
    {
     "data": {
      "text/plain": [
       "'3.5.2 |Anaconda custom (x86_64)| (default, Jul  2 2016, 17:52:12) \\n[GCC 4.2.1 Compatible Apple LLVM 4.2 (clang-425.0.28)]'"
      ]
     },
     "execution_count": 3,
     "metadata": {},
     "output_type": "execute_result"
    }
   ],
   "source": [
    "sys.version"
   ]
  },
  {
   "cell_type": "markdown",
   "metadata": {},
   "source": [
    "- esc+a = cell above\n",
    "- esc+b = cell below\n",
    "- esc+m = converts cell to markdown\n",
    "- esc+y = converts cell to code\n",
    "- esc+d+d = deletes a cell"
   ]
  },
  {
   "cell_type": "markdown",
   "metadata": {},
   "source": [
    "# Student notebook\n",
    "\n",
    "We're learning python today\n",
    "\n",
    "* this is markdown\n",
    "* it still looks pretty when not rendered"
   ]
  },
  {
   "cell_type": "code",
   "execution_count": 1,
   "metadata": {
    "collapsed": false
   },
   "outputs": [
    {
     "data": {
      "text/plain": [
       "1"
      ]
     },
     "execution_count": 1,
     "metadata": {},
     "output_type": "execute_result"
    }
   ],
   "source": [
    "1"
   ]
  },
  {
   "cell_type": "code",
   "execution_count": 2,
   "metadata": {
    "collapsed": false
   },
   "outputs": [
    {
     "data": {
      "text/plain": [
       "2"
      ]
     },
     "execution_count": 2,
     "metadata": {},
     "output_type": "execute_result"
    }
   ],
   "source": [
    "2"
   ]
  },
  {
   "cell_type": "code",
   "execution_count": 3,
   "metadata": {
    "collapsed": false
   },
   "outputs": [
    {
     "data": {
      "text/plain": [
       "0.5"
      ]
     },
     "execution_count": 3,
     "metadata": {},
     "output_type": "execute_result"
    }
   ],
   "source": [
    "1/2"
   ]
  },
  {
   "cell_type": "code",
   "execution_count": 4,
   "metadata": {
    "collapsed": false
   },
   "outputs": [
    {
     "data": {
      "text/plain": [
       "0"
      ]
     },
     "execution_count": 4,
     "metadata": {},
     "output_type": "execute_result"
    }
   ],
   "source": [
    "1//2"
   ]
  },
  {
   "cell_type": "code",
   "execution_count": 5,
   "metadata": {
    "collapsed": false
   },
   "outputs": [
    {
     "data": {
      "text/plain": [
       "1.0"
      ]
     },
     "execution_count": 5,
     "metadata": {},
     "output_type": "execute_result"
    }
   ],
   "source": [
    "1.0"
   ]
  },
  {
   "cell_type": "code",
   "execution_count": 6,
   "metadata": {
    "collapsed": false
   },
   "outputs": [
    {
     "data": {
      "text/plain": [
       "3"
      ]
     },
     "execution_count": 6,
     "metadata": {},
     "output_type": "execute_result"
    }
   ],
   "source": [
    "1+2"
   ]
  },
  {
   "cell_type": "code",
   "execution_count": 7,
   "metadata": {
    "collapsed": false
   },
   "outputs": [
    {
     "data": {
      "text/plain": [
       "-1"
      ]
     },
     "execution_count": 7,
     "metadata": {},
     "output_type": "execute_result"
    }
   ],
   "source": [
    "2-3"
   ]
  },
  {
   "cell_type": "code",
   "execution_count": 8,
   "metadata": {
    "collapsed": false
   },
   "outputs": [
    {
     "data": {
      "text/plain": [
       "8"
      ]
     },
     "execution_count": 8,
     "metadata": {},
     "output_type": "execute_result"
    }
   ],
   "source": [
    "2**3"
   ]
  },
  {
   "cell_type": "code",
   "execution_count": 9,
   "metadata": {
    "collapsed": true
   },
   "outputs": [],
   "source": [
    "import math"
   ]
  },
  {
   "cell_type": "code",
   "execution_count": 10,
   "metadata": {
    "collapsed": false
   },
   "outputs": [
    {
     "data": {
      "text/plain": [
       "2.0"
      ]
     },
     "execution_count": 10,
     "metadata": {},
     "output_type": "execute_result"
    }
   ],
   "source": [
    "math.log10(100)"
   ]
  },
  {
   "cell_type": "code",
   "execution_count": 13,
   "metadata": {
    "collapsed": false
   },
   "outputs": [],
   "source": [
    "a = 100"
   ]
  },
  {
   "cell_type": "code",
   "execution_count": 17,
   "metadata": {
    "collapsed": false
   },
   "outputs": [
    {
     "data": {
      "text/plain": [
       "int"
      ]
     },
     "execution_count": 17,
     "metadata": {},
     "output_type": "execute_result"
    }
   ],
   "source": [
    "type(a)"
   ]
  },
  {
   "cell_type": "code",
   "execution_count": 19,
   "metadata": {
    "collapsed": false
   },
   "outputs": [
    {
     "name": "stdout",
     "output_type": "stream",
     "text": [
      "Help on int object:\n",
      "\n",
      "class int(object)\n",
      " |  int(x=0) -> integer\n",
      " |  int(x, base=10) -> integer\n",
      " |  \n",
      " |  Convert a number or string to an integer, or return 0 if no arguments\n",
      " |  are given.  If x is a number, return x.__int__().  For floating point\n",
      " |  numbers, this truncates towards zero.\n",
      " |  \n",
      " |  If x is not a number or if base is given, then x must be a string,\n",
      " |  bytes, or bytearray instance representing an integer literal in the\n",
      " |  given base.  The literal can be preceded by '+' or '-' and be surrounded\n",
      " |  by whitespace.  The base defaults to 10.  Valid bases are 0 and 2-36.\n",
      " |  Base 0 means to interpret the base from the string as an integer literal.\n",
      " |  >>> int('0b100', base=0)\n",
      " |  4\n",
      " |  \n",
      " |  Methods defined here:\n",
      " |  \n",
      " |  __abs__(self, /)\n",
      " |      abs(self)\n",
      " |  \n",
      " |  __add__(self, value, /)\n",
      " |      Return self+value.\n",
      " |  \n",
      " |  __and__(self, value, /)\n",
      " |      Return self&value.\n",
      " |  \n",
      " |  __bool__(self, /)\n",
      " |      self != 0\n",
      " |  \n",
      " |  __ceil__(...)\n",
      " |      Ceiling of an Integral returns itself.\n",
      " |  \n",
      " |  __divmod__(self, value, /)\n",
      " |      Return divmod(self, value).\n",
      " |  \n",
      " |  __eq__(self, value, /)\n",
      " |      Return self==value.\n",
      " |  \n",
      " |  __float__(self, /)\n",
      " |      float(self)\n",
      " |  \n",
      " |  __floor__(...)\n",
      " |      Flooring an Integral returns itself.\n",
      " |  \n",
      " |  __floordiv__(self, value, /)\n",
      " |      Return self//value.\n",
      " |  \n",
      " |  __format__(...)\n",
      " |      default object formatter\n",
      " |  \n",
      " |  __ge__(self, value, /)\n",
      " |      Return self>=value.\n",
      " |  \n",
      " |  __getattribute__(self, name, /)\n",
      " |      Return getattr(self, name).\n",
      " |  \n",
      " |  __getnewargs__(...)\n",
      " |  \n",
      " |  __gt__(self, value, /)\n",
      " |      Return self>value.\n",
      " |  \n",
      " |  __hash__(self, /)\n",
      " |      Return hash(self).\n",
      " |  \n",
      " |  __index__(self, /)\n",
      " |      Return self converted to an integer, if self is suitable for use as an index into a list.\n",
      " |  \n",
      " |  __int__(self, /)\n",
      " |      int(self)\n",
      " |  \n",
      " |  __invert__(self, /)\n",
      " |      ~self\n",
      " |  \n",
      " |  __le__(self, value, /)\n",
      " |      Return self<=value.\n",
      " |  \n",
      " |  __lshift__(self, value, /)\n",
      " |      Return self<<value.\n",
      " |  \n",
      " |  __lt__(self, value, /)\n",
      " |      Return self<value.\n",
      " |  \n",
      " |  __mod__(self, value, /)\n",
      " |      Return self%value.\n",
      " |  \n",
      " |  __mul__(self, value, /)\n",
      " |      Return self*value.\n",
      " |  \n",
      " |  __ne__(self, value, /)\n",
      " |      Return self!=value.\n",
      " |  \n",
      " |  __neg__(self, /)\n",
      " |      -self\n",
      " |  \n",
      " |  __new__(*args, **kwargs) from builtins.type\n",
      " |      Create and return a new object.  See help(type) for accurate signature.\n",
      " |  \n",
      " |  __or__(self, value, /)\n",
      " |      Return self|value.\n",
      " |  \n",
      " |  __pos__(self, /)\n",
      " |      +self\n",
      " |  \n",
      " |  __pow__(self, value, mod=None, /)\n",
      " |      Return pow(self, value, mod).\n",
      " |  \n",
      " |  __radd__(self, value, /)\n",
      " |      Return value+self.\n",
      " |  \n",
      " |  __rand__(self, value, /)\n",
      " |      Return value&self.\n",
      " |  \n",
      " |  __rdivmod__(self, value, /)\n",
      " |      Return divmod(value, self).\n",
      " |  \n",
      " |  __repr__(self, /)\n",
      " |      Return repr(self).\n",
      " |  \n",
      " |  __rfloordiv__(self, value, /)\n",
      " |      Return value//self.\n",
      " |  \n",
      " |  __rlshift__(self, value, /)\n",
      " |      Return value<<self.\n",
      " |  \n",
      " |  __rmod__(self, value, /)\n",
      " |      Return value%self.\n",
      " |  \n",
      " |  __rmul__(self, value, /)\n",
      " |      Return value*self.\n",
      " |  \n",
      " |  __ror__(self, value, /)\n",
      " |      Return value|self.\n",
      " |  \n",
      " |  __round__(...)\n",
      " |      Rounding an Integral returns itself.\n",
      " |      Rounding with an ndigits argument also returns an integer.\n",
      " |  \n",
      " |  __rpow__(self, value, mod=None, /)\n",
      " |      Return pow(value, self, mod).\n",
      " |  \n",
      " |  __rrshift__(self, value, /)\n",
      " |      Return value>>self.\n",
      " |  \n",
      " |  __rshift__(self, value, /)\n",
      " |      Return self>>value.\n",
      " |  \n",
      " |  __rsub__(self, value, /)\n",
      " |      Return value-self.\n",
      " |  \n",
      " |  __rtruediv__(self, value, /)\n",
      " |      Return value/self.\n",
      " |  \n",
      " |  __rxor__(self, value, /)\n",
      " |      Return value^self.\n",
      " |  \n",
      " |  __sizeof__(...)\n",
      " |      Returns size in memory, in bytes\n",
      " |  \n",
      " |  __str__(self, /)\n",
      " |      Return str(self).\n",
      " |  \n",
      " |  __sub__(self, value, /)\n",
      " |      Return self-value.\n",
      " |  \n",
      " |  __truediv__(self, value, /)\n",
      " |      Return self/value.\n",
      " |  \n",
      " |  __trunc__(...)\n",
      " |      Truncating an Integral returns itself.\n",
      " |  \n",
      " |  __xor__(self, value, /)\n",
      " |      Return self^value.\n",
      " |  \n",
      " |  bit_length(...)\n",
      " |      int.bit_length() -> int\n",
      " |      \n",
      " |      Number of bits necessary to represent self in binary.\n",
      " |      >>> bin(37)\n",
      " |      '0b100101'\n",
      " |      >>> (37).bit_length()\n",
      " |      6\n",
      " |  \n",
      " |  conjugate(...)\n",
      " |      Returns self, the complex conjugate of any int.\n",
      " |  \n",
      " |  from_bytes(...) from builtins.type\n",
      " |      int.from_bytes(bytes, byteorder, *, signed=False) -> int\n",
      " |      \n",
      " |      Return the integer represented by the given array of bytes.\n",
      " |      \n",
      " |      The bytes argument must be a bytes-like object (e.g. bytes or bytearray).\n",
      " |      \n",
      " |      The byteorder argument determines the byte order used to represent the\n",
      " |      integer.  If byteorder is 'big', the most significant byte is at the\n",
      " |      beginning of the byte array.  If byteorder is 'little', the most\n",
      " |      significant byte is at the end of the byte array.  To request the native\n",
      " |      byte order of the host system, use `sys.byteorder' as the byte order value.\n",
      " |      \n",
      " |      The signed keyword-only argument indicates whether two's complement is\n",
      " |      used to represent the integer.\n",
      " |  \n",
      " |  to_bytes(...)\n",
      " |      int.to_bytes(length, byteorder, *, signed=False) -> bytes\n",
      " |      \n",
      " |      Return an array of bytes representing an integer.\n",
      " |      \n",
      " |      The integer is represented using length bytes.  An OverflowError is\n",
      " |      raised if the integer is not representable with the given number of\n",
      " |      bytes.\n",
      " |      \n",
      " |      The byteorder argument determines the byte order used to represent the\n",
      " |      integer.  If byteorder is 'big', the most significant byte is at the\n",
      " |      beginning of the byte array.  If byteorder is 'little', the most\n",
      " |      significant byte is at the end of the byte array.  To request the native\n",
      " |      byte order of the host system, use `sys.byteorder' as the byte order value.\n",
      " |      \n",
      " |      The signed keyword-only argument determines whether two's complement is\n",
      " |      used to represent the integer.  If signed is False and a negative integer\n",
      " |      is given, an OverflowError is raised.\n",
      " |  \n",
      " |  ----------------------------------------------------------------------\n",
      " |  Data descriptors defined here:\n",
      " |  \n",
      " |  denominator\n",
      " |      the denominator of a rational number in lowest terms\n",
      " |  \n",
      " |  imag\n",
      " |      the imaginary part of a complex number\n",
      " |  \n",
      " |  numerator\n",
      " |      the numerator of a rational number in lowest terms\n",
      " |  \n",
      " |  real\n",
      " |      the real part of a complex number\n",
      "\n"
     ]
    }
   ],
   "source": [
    "help(a)"
   ]
  },
  {
   "cell_type": "code",
   "execution_count": 20,
   "metadata": {
    "collapsed": false
   },
   "outputs": [
    {
     "name": "stdout",
     "output_type": "stream",
     "text": [
      "Help on module math:\n",
      "\n",
      "NAME\n",
      "    math\n",
      "\n",
      "MODULE REFERENCE\n",
      "    https://docs.python.org/3.5/library/math.html\n",
      "    \n",
      "    The following documentation is automatically generated from the Python\n",
      "    source files.  It may be incomplete, incorrect or include features that\n",
      "    are considered implementation detail and may vary between Python\n",
      "    implementations.  When in doubt, consult the module reference at the\n",
      "    location listed above.\n",
      "\n",
      "DESCRIPTION\n",
      "    This module is always available.  It provides access to the\n",
      "    mathematical functions defined by the C standard.\n",
      "\n",
      "FUNCTIONS\n",
      "    acos(...)\n",
      "        acos(x)\n",
      "        \n",
      "        Return the arc cosine (measured in radians) of x.\n",
      "    \n",
      "    acosh(...)\n",
      "        acosh(x)\n",
      "        \n",
      "        Return the inverse hyperbolic cosine of x.\n",
      "    \n",
      "    asin(...)\n",
      "        asin(x)\n",
      "        \n",
      "        Return the arc sine (measured in radians) of x.\n",
      "    \n",
      "    asinh(...)\n",
      "        asinh(x)\n",
      "        \n",
      "        Return the inverse hyperbolic sine of x.\n",
      "    \n",
      "    atan(...)\n",
      "        atan(x)\n",
      "        \n",
      "        Return the arc tangent (measured in radians) of x.\n",
      "    \n",
      "    atan2(...)\n",
      "        atan2(y, x)\n",
      "        \n",
      "        Return the arc tangent (measured in radians) of y/x.\n",
      "        Unlike atan(y/x), the signs of both x and y are considered.\n",
      "    \n",
      "    atanh(...)\n",
      "        atanh(x)\n",
      "        \n",
      "        Return the inverse hyperbolic tangent of x.\n",
      "    \n",
      "    ceil(...)\n",
      "        ceil(x)\n",
      "        \n",
      "        Return the ceiling of x as an Integral.\n",
      "        This is the smallest integer >= x.\n",
      "    \n",
      "    copysign(...)\n",
      "        copysign(x, y)\n",
      "        \n",
      "        Return a float with the magnitude (absolute value) of x but the sign \n",
      "        of y. On platforms that support signed zeros, copysign(1.0, -0.0) \n",
      "        returns -1.0.\n",
      "    \n",
      "    cos(...)\n",
      "        cos(x)\n",
      "        \n",
      "        Return the cosine of x (measured in radians).\n",
      "    \n",
      "    cosh(...)\n",
      "        cosh(x)\n",
      "        \n",
      "        Return the hyperbolic cosine of x.\n",
      "    \n",
      "    degrees(...)\n",
      "        degrees(x)\n",
      "        \n",
      "        Convert angle x from radians to degrees.\n",
      "    \n",
      "    erf(...)\n",
      "        erf(x)\n",
      "        \n",
      "        Error function at x.\n",
      "    \n",
      "    erfc(...)\n",
      "        erfc(x)\n",
      "        \n",
      "        Complementary error function at x.\n",
      "    \n",
      "    exp(...)\n",
      "        exp(x)\n",
      "        \n",
      "        Return e raised to the power of x.\n",
      "    \n",
      "    expm1(...)\n",
      "        expm1(x)\n",
      "        \n",
      "        Return exp(x)-1.\n",
      "        This function avoids the loss of precision involved in the direct evaluation of exp(x)-1 for small x.\n",
      "    \n",
      "    fabs(...)\n",
      "        fabs(x)\n",
      "        \n",
      "        Return the absolute value of the float x.\n",
      "    \n",
      "    factorial(...)\n",
      "        factorial(x) -> Integral\n",
      "        \n",
      "        Find x!. Raise a ValueError if x is negative or non-integral.\n",
      "    \n",
      "    floor(...)\n",
      "        floor(x)\n",
      "        \n",
      "        Return the floor of x as an Integral.\n",
      "        This is the largest integer <= x.\n",
      "    \n",
      "    fmod(...)\n",
      "        fmod(x, y)\n",
      "        \n",
      "        Return fmod(x, y), according to platform C.  x % y may differ.\n",
      "    \n",
      "    frexp(...)\n",
      "        frexp(x)\n",
      "        \n",
      "        Return the mantissa and exponent of x, as pair (m, e).\n",
      "        m is a float and e is an int, such that x = m * 2.**e.\n",
      "        If x is 0, m and e are both 0.  Else 0.5 <= abs(m) < 1.0.\n",
      "    \n",
      "    fsum(...)\n",
      "        fsum(iterable)\n",
      "        \n",
      "        Return an accurate floating point sum of values in the iterable.\n",
      "        Assumes IEEE-754 floating point arithmetic.\n",
      "    \n",
      "    gamma(...)\n",
      "        gamma(x)\n",
      "        \n",
      "        Gamma function at x.\n",
      "    \n",
      "    gcd(...)\n",
      "        gcd(x, y) -> int\n",
      "        greatest common divisor of x and y\n",
      "    \n",
      "    hypot(...)\n",
      "        hypot(x, y)\n",
      "        \n",
      "        Return the Euclidean distance, sqrt(x*x + y*y).\n",
      "    \n",
      "    isclose(...)\n",
      "        isclose(a, b, *, rel_tol=1e-09, abs_tol=0.0) -> bool\n",
      "        \n",
      "        Determine whether two floating point numbers are close in value.\n",
      "        \n",
      "           rel_tol\n",
      "               maximum difference for being considered \"close\", relative to the\n",
      "               magnitude of the input values\n",
      "            abs_tol\n",
      "               maximum difference for being considered \"close\", regardless of the\n",
      "               magnitude of the input values\n",
      "        \n",
      "        Return True if a is close in value to b, and False otherwise.\n",
      "        \n",
      "        For the values to be considered close, the difference between them\n",
      "        must be smaller than at least one of the tolerances.\n",
      "        \n",
      "        -inf, inf and NaN behave similarly to the IEEE 754 Standard.  That\n",
      "        is, NaN is not close to anything, even itself.  inf and -inf are\n",
      "        only close to themselves.\n",
      "    \n",
      "    isfinite(...)\n",
      "        isfinite(x) -> bool\n",
      "        \n",
      "        Return True if x is neither an infinity nor a NaN, and False otherwise.\n",
      "    \n",
      "    isinf(...)\n",
      "        isinf(x) -> bool\n",
      "        \n",
      "        Return True if x is a positive or negative infinity, and False otherwise.\n",
      "    \n",
      "    isnan(...)\n",
      "        isnan(x) -> bool\n",
      "        \n",
      "        Return True if x is a NaN (not a number), and False otherwise.\n",
      "    \n",
      "    ldexp(...)\n",
      "        ldexp(x, i)\n",
      "        \n",
      "        Return x * (2**i).\n",
      "    \n",
      "    lgamma(...)\n",
      "        lgamma(x)\n",
      "        \n",
      "        Natural logarithm of absolute value of Gamma function at x.\n",
      "    \n",
      "    log(...)\n",
      "        log(x[, base])\n",
      "        \n",
      "        Return the logarithm of x to the given base.\n",
      "        If the base not specified, returns the natural logarithm (base e) of x.\n",
      "    \n",
      "    log10(...)\n",
      "        log10(x)\n",
      "        \n",
      "        Return the base 10 logarithm of x.\n",
      "    \n",
      "    log1p(...)\n",
      "        log1p(x)\n",
      "        \n",
      "        Return the natural logarithm of 1+x (base e).\n",
      "        The result is computed in a way which is accurate for x near zero.\n",
      "    \n",
      "    log2(...)\n",
      "        log2(x)\n",
      "        \n",
      "        Return the base 2 logarithm of x.\n",
      "    \n",
      "    modf(...)\n",
      "        modf(x)\n",
      "        \n",
      "        Return the fractional and integer parts of x.  Both results carry the sign\n",
      "        of x and are floats.\n",
      "    \n",
      "    pow(...)\n",
      "        pow(x, y)\n",
      "        \n",
      "        Return x**y (x to the power of y).\n",
      "    \n",
      "    radians(...)\n",
      "        radians(x)\n",
      "        \n",
      "        Convert angle x from degrees to radians.\n",
      "    \n",
      "    sin(...)\n",
      "        sin(x)\n",
      "        \n",
      "        Return the sine of x (measured in radians).\n",
      "    \n",
      "    sinh(...)\n",
      "        sinh(x)\n",
      "        \n",
      "        Return the hyperbolic sine of x.\n",
      "    \n",
      "    sqrt(...)\n",
      "        sqrt(x)\n",
      "        \n",
      "        Return the square root of x.\n",
      "    \n",
      "    tan(...)\n",
      "        tan(x)\n",
      "        \n",
      "        Return the tangent of x (measured in radians).\n",
      "    \n",
      "    tanh(...)\n",
      "        tanh(x)\n",
      "        \n",
      "        Return the hyperbolic tangent of x.\n",
      "    \n",
      "    trunc(...)\n",
      "        trunc(x:Real) -> Integral\n",
      "        \n",
      "        Truncates x to the nearest Integral toward 0. Uses the __trunc__ magic method.\n",
      "\n",
      "DATA\n",
      "    e = 2.718281828459045\n",
      "    inf = inf\n",
      "    nan = nan\n",
      "    pi = 3.141592653589793\n",
      "\n",
      "FILE\n",
      "    //anaconda/lib/python3.5/lib-dynload/math.so\n",
      "\n",
      "\n"
     ]
    }
   ],
   "source": [
    "help(math)"
   ]
  },
  {
   "cell_type": "code",
   "execution_count": 21,
   "metadata": {
    "collapsed": true
   },
   "outputs": [],
   "source": [
    "math."
   ]
  },
  {
   "cell_type": "code",
   "execution_count": 22,
   "metadata": {
    "collapsed": false
   },
   "outputs": [
    {
     "data": {
      "text/plain": [
       "['__doc__',\n",
       " '__file__',\n",
       " '__loader__',\n",
       " '__name__',\n",
       " '__package__',\n",
       " '__spec__',\n",
       " 'acos',\n",
       " 'acosh',\n",
       " 'asin',\n",
       " 'asinh',\n",
       " 'atan',\n",
       " 'atan2',\n",
       " 'atanh',\n",
       " 'ceil',\n",
       " 'copysign',\n",
       " 'cos',\n",
       " 'cosh',\n",
       " 'degrees',\n",
       " 'e',\n",
       " 'erf',\n",
       " 'erfc',\n",
       " 'exp',\n",
       " 'expm1',\n",
       " 'fabs',\n",
       " 'factorial',\n",
       " 'floor',\n",
       " 'fmod',\n",
       " 'frexp',\n",
       " 'fsum',\n",
       " 'gamma',\n",
       " 'gcd',\n",
       " 'hypot',\n",
       " 'inf',\n",
       " 'isclose',\n",
       " 'isfinite',\n",
       " 'isinf',\n",
       " 'isnan',\n",
       " 'ldexp',\n",
       " 'lgamma',\n",
       " 'log',\n",
       " 'log10',\n",
       " 'log1p',\n",
       " 'log2',\n",
       " 'modf',\n",
       " 'nan',\n",
       " 'pi',\n",
       " 'pow',\n",
       " 'radians',\n",
       " 'sin',\n",
       " 'sinh',\n",
       " 'sqrt',\n",
       " 'tan',\n",
       " 'tanh',\n",
       " 'trunc']"
      ]
     },
     "execution_count": 22,
     "metadata": {},
     "output_type": "execute_result"
    }
   ],
   "source": [
    "dir(math)"
   ]
  },
  {
   "cell_type": "code",
   "execution_count": 23,
   "metadata": {
    "collapsed": false
   },
   "outputs": [
    {
     "data": {
      "text/plain": [
       "'//anaconda/lib/python3.5/lib-dynload/math.so'"
      ]
     },
     "execution_count": 23,
     "metadata": {},
     "output_type": "execute_result"
    }
   ],
   "source": [
    "math.__file__"
   ]
  },
  {
   "cell_type": "code",
   "execution_count": 25,
   "metadata": {
    "collapsed": false
   },
   "outputs": [
    {
     "data": {
      "text/plain": [
       "0.15425144988758405"
      ]
     },
     "execution_count": 25,
     "metadata": {},
     "output_type": "execute_result"
    }
   ],
   "source": [
    "math.cos(30)"
   ]
  },
  {
   "cell_type": "code",
   "execution_count": 26,
   "metadata": {
    "collapsed": false
   },
   "outputs": [
    {
     "name": "stdout",
     "output_type": "stream",
     "text": [
      "Help on built-in function cos in module math:\n",
      "\n",
      "cos(...)\n",
      "    cos(x)\n",
      "    \n",
      "    Return the cosine of x (measured in radians).\n",
      "\n"
     ]
    }
   ],
   "source": [
    "help(math.cos)"
   ]
  },
  {
   "cell_type": "code",
   "execution_count": 27,
   "metadata": {
    "collapsed": true
   },
   "outputs": [],
   "source": [
    "math.cos?"
   ]
  },
  {
   "cell_type": "code",
   "execution_count": 28,
   "metadata": {
    "collapsed": true
   },
   "outputs": [],
   "source": [
    "star = 'deneb'\n",
    "star = \"deneb\""
   ]
  },
  {
   "cell_type": "code",
   "execution_count": 29,
   "metadata": {
    "collapsed": false
   },
   "outputs": [
    {
     "data": {
      "text/plain": [
       "'denebdeneb'"
      ]
     },
     "execution_count": 29,
     "metadata": {},
     "output_type": "execute_result"
    }
   ],
   "source": [
    "star+star"
   ]
  },
  {
   "cell_type": "code",
   "execution_count": 30,
   "metadata": {
    "collapsed": false
   },
   "outputs": [
    {
     "data": {
      "text/plain": [
       "'denebdenebdeneb'"
      ]
     },
     "execution_count": 30,
     "metadata": {},
     "output_type": "execute_result"
    }
   ],
   "source": [
    "star*3"
   ]
  },
  {
   "cell_type": "code",
   "execution_count": 31,
   "metadata": {
    "collapsed": false
   },
   "outputs": [
    {
     "ename": "TypeError",
     "evalue": "unsupported operand type(s) for /: 'str' and 'int'",
     "output_type": "error",
     "traceback": [
      "\u001b[0;31m---------------------------------------------------------------------------\u001b[0m",
      "\u001b[0;31mTypeError\u001b[0m                                 Traceback (most recent call last)",
      "\u001b[0;32m<ipython-input-31-b36d64490f2a>\u001b[0m in \u001b[0;36m<module>\u001b[0;34m()\u001b[0m\n\u001b[0;32m----> 1\u001b[0;31m \u001b[0mstar\u001b[0m\u001b[0;34m/\u001b[0m\u001b[0;36m3\u001b[0m\u001b[0;34m\u001b[0m\u001b[0m\n\u001b[0m",
      "\u001b[0;31mTypeError\u001b[0m: unsupported operand type(s) for /: 'str' and 'int'"
     ]
    }
   ],
   "source": [
    "star/3"
   ]
  },
  {
   "cell_type": "code",
   "execution_count": 33,
   "metadata": {
    "collapsed": false
   },
   "outputs": [
    {
     "name": "stdout",
     "output_type": "stream",
     "text": [
      "deneb\n"
     ]
    },
    {
     "data": {
      "text/plain": [
       "'n'"
      ]
     },
     "execution_count": 33,
     "metadata": {},
     "output_type": "execute_result"
    }
   ],
   "source": [
    "print(star)\n",
    "star[2]"
   ]
  },
  {
   "cell_type": "code",
   "execution_count": 35,
   "metadata": {
    "collapsed": false
   },
   "outputs": [
    {
     "data": {
      "text/plain": [
       "'dene'"
      ]
     },
     "execution_count": 35,
     "metadata": {},
     "output_type": "execute_result"
    }
   ],
   "source": [
    "star[0:2]+star[2:4]"
   ]
  },
  {
   "cell_type": "code",
   "execution_count": 36,
   "metadata": {
    "collapsed": false
   },
   "outputs": [
    {
     "data": {
      "text/plain": [
       "'de'"
      ]
     },
     "execution_count": 36,
     "metadata": {},
     "output_type": "execute_result"
    }
   ],
   "source": [
    "star[:2]"
   ]
  },
  {
   "cell_type": "code",
   "execution_count": 37,
   "metadata": {
    "collapsed": false
   },
   "outputs": [
    {
     "data": {
      "text/plain": [
       "'neb'"
      ]
     },
     "execution_count": 37,
     "metadata": {},
     "output_type": "execute_result"
    }
   ],
   "source": [
    "star[2:]"
   ]
  },
  {
   "cell_type": "code",
   "execution_count": 38,
   "metadata": {
    "collapsed": false
   },
   "outputs": [
    {
     "data": {
      "text/plain": [
       "'b'"
      ]
     },
     "execution_count": 38,
     "metadata": {},
     "output_type": "execute_result"
    }
   ],
   "source": [
    "star[-1]"
   ]
  },
  {
   "cell_type": "code",
   "execution_count": 44,
   "metadata": {
    "collapsed": false
   },
   "outputs": [
    {
     "name": "stdout",
     "output_type": "stream",
     "text": [
      "<class 'list'>\n",
      "[1, 2, 3]\n"
     ]
    }
   ],
   "source": [
    "my_list = [1, 2, 3]\n",
    "print(type(my_list))\n",
    "print(my_list)"
   ]
  },
  {
   "cell_type": "code",
   "execution_count": 41,
   "metadata": {
    "collapsed": true
   },
   "outputs": [],
   "source": [
    "my_list2 = ['a', 1, 'b', 2]"
   ]
  },
  {
   "cell_type": "code",
   "execution_count": 42,
   "metadata": {
    "collapsed": false
   },
   "outputs": [
    {
     "data": {
      "text/plain": [
       "[1, 2, 3, 'a', 1, 'b', 2]"
      ]
     },
     "execution_count": 42,
     "metadata": {},
     "output_type": "execute_result"
    }
   ],
   "source": [
    "my_list+my_list2"
   ]
  },
  {
   "cell_type": "code",
   "execution_count": 43,
   "metadata": {
    "collapsed": false
   },
   "outputs": [
    {
     "data": {
      "text/plain": [
       "[1, 2, 3, 1, 2, 3, 1, 2, 3]"
      ]
     },
     "execution_count": 43,
     "metadata": {},
     "output_type": "execute_result"
    }
   ],
   "source": [
    "my_list*3"
   ]
  },
  {
   "cell_type": "code",
   "execution_count": 45,
   "metadata": {
    "collapsed": false
   },
   "outputs": [
    {
     "data": {
      "text/plain": [
       "3"
      ]
     },
     "execution_count": 45,
     "metadata": {},
     "output_type": "execute_result"
    }
   ],
   "source": [
    "my_list[2]"
   ]
  },
  {
   "cell_type": "code",
   "execution_count": 46,
   "metadata": {
    "collapsed": true
   },
   "outputs": [],
   "source": [
    "import numpy as np"
   ]
  },
  {
   "cell_type": "code",
   "execution_count": 47,
   "metadata": {
    "collapsed": true
   },
   "outputs": [],
   "source": [
    "my_array = np.array(my_list)"
   ]
  },
  {
   "cell_type": "code",
   "execution_count": 48,
   "metadata": {
    "collapsed": false
   },
   "outputs": [
    {
     "name": "stdout",
     "output_type": "stream",
     "text": [
      "[1 2 3]\n",
      "<class 'numpy.ndarray'>\n"
     ]
    }
   ],
   "source": [
    "print(my_array)\n",
    "print(type(my_array))"
   ]
  },
  {
   "cell_type": "code",
   "execution_count": 51,
   "metadata": {
    "collapsed": false
   },
   "outputs": [
    {
     "data": {
      "text/plain": [
       "array([ 3,  6, 12, 15])"
      ]
     },
     "execution_count": 51,
     "metadata": {},
     "output_type": "execute_result"
    }
   ],
   "source": [
    "my_array*3"
   ]
  },
  {
   "cell_type": "markdown",
   "metadata": {},
   "source": [
    "# Exercise 1 solution"
   ]
  },
  {
   "cell_type": "code",
   "execution_count": 50,
   "metadata": {
    "collapsed": true
   },
   "outputs": [],
   "source": [
    "my_array = np.array([1, 2, 4, 5])"
   ]
  },
  {
   "cell_type": "code",
   "execution_count": 52,
   "metadata": {
    "collapsed": false
   },
   "outputs": [
    {
     "name": "stdout",
     "output_type": "stream",
     "text": [
      "[ 0.5  1.   2.   2.5]\n",
      "[  1   8  64 125]\n"
     ]
    }
   ],
   "source": [
    "print(my_array/2)\n",
    "print(my_array**3)"
   ]
  },
  {
   "cell_type": "code",
   "execution_count": 54,
   "metadata": {
    "collapsed": false
   },
   "outputs": [
    {
     "data": {
      "text/plain": [
       "3.0"
      ]
     },
     "execution_count": 54,
     "metadata": {},
     "output_type": "execute_result"
    }
   ],
   "source": [
    "np.mean(my_array)"
   ]
  },
  {
   "cell_type": "code",
   "execution_count": 55,
   "metadata": {
    "collapsed": false
   },
   "outputs": [
    {
     "data": {
      "text/plain": [
       "array([  1,   8,  64, 125])"
      ]
     },
     "execution_count": 55,
     "metadata": {},
     "output_type": "execute_result"
    }
   ],
   "source": [
    "my_array/2\n",
    "my_array**3"
   ]
  },
  {
   "cell_type": "code",
   "execution_count": 56,
   "metadata": {
    "collapsed": false
   },
   "outputs": [
    {
     "data": {
      "text/plain": [
       "4"
      ]
     },
     "execution_count": 56,
     "metadata": {},
     "output_type": "execute_result"
    }
   ],
   "source": [
    "my_array.size"
   ]
  },
  {
   "cell_type": "code",
   "execution_count": 57,
   "metadata": {
    "collapsed": false
   },
   "outputs": [
    {
     "data": {
      "text/plain": [
       "(4,)"
      ]
     },
     "execution_count": 57,
     "metadata": {},
     "output_type": "execute_result"
    }
   ],
   "source": [
    "my_array.shape"
   ]
  },
  {
   "cell_type": "code",
   "execution_count": 59,
   "metadata": {
    "collapsed": false
   },
   "outputs": [
    {
     "data": {
      "text/plain": [
       "3.0"
      ]
     },
     "execution_count": 59,
     "metadata": {},
     "output_type": "execute_result"
    }
   ],
   "source": [
    "my_array.mean()"
   ]
  },
  {
   "cell_type": "markdown",
   "metadata": {},
   "source": [
    "# Loops"
   ]
  },
  {
   "cell_type": "code",
   "execution_count": 62,
   "metadata": {
    "collapsed": false
   },
   "outputs": [
    {
     "name": "stdout",
     "output_type": "stream",
     "text": [
      "one of my favorite stars is  sirius yay!\n",
      "one of my favorite stars is  deneb yay!\n",
      "one of my favorite stars is  altair yay!\n",
      "done\n"
     ]
    }
   ],
   "source": [
    "my_favorite_stars = ['sirius', 'deneb', 'altair']\n",
    "for star in my_favorite_stars:\n",
    "    print('one of my favorite stars is ', star, 'yay!')\n",
    "print('done')"
   ]
  },
  {
   "cell_type": "markdown",
   "metadata": {},
   "source": [
    "# Conditional"
   ]
  },
  {
   "cell_type": "markdown",
   "metadata": {},
   "source": [
    "if *condition*:\n",
    "\n",
    "    do a\n",
    "elif *condition*:\n",
    "\n",
    "    do b\n",
    "    \n",
    "else:\n",
    "\n",
    "    do c\n",
    "    \n",
    "==, !=, >=, <=, >, <\n",
    "\n",
    "is, is not\n",
    "\n",
    "and, or\n",
    "\n",
    "&, |\n",
    "\n",
    "(condition) & (condition)"
   ]
  },
  {
   "cell_type": "code",
   "execution_count": 69,
   "metadata": {
    "collapsed": false
   },
   "outputs": [
    {
     "name": "stdout",
     "output_type": "stream",
     "text": [
      "cygnus is my favorite\n"
     ]
    }
   ],
   "source": [
    "my_constellation = 'cygnus'\n",
    "if my_constellation == 'cygnus':\n",
    "    print('cygnus is my favorite')\n",
    "else:\n",
    "    print('{} is not my favorite'.format(my_constellation))\n",
    "    print(my_constellation, 'is not my favorite')"
   ]
  },
  {
   "cell_type": "code",
   "execution_count": 67,
   "metadata": {
    "collapsed": false
   },
   "outputs": [
    {
     "name": "stdout",
     "output_type": "stream",
     "text": [
      "[1, 2, 3] is not my favorite, orion, [1, 2, 3]\n"
     ]
    }
   ],
   "source": [
    "my_constellation = 'orion'\n",
    "if my_constellation == 'cygnus':\n",
    "    print('cygnus is my favorite')\n",
    "else:\n",
    "    print('{1} is not my favorite, {0}, {1}'.format(my_constellation, my_list))"
   ]
  },
  {
   "cell_type": "code",
   "execution_count": 70,
   "metadata": {
    "collapsed": false
   },
   "outputs": [
    {
     "name": "stdout",
     "output_type": "stream",
     "text": [
      "orion is not my favorite\n",
      "orion is not my favorite\n"
     ]
    }
   ],
   "source": [
    "my_constellation = 'orion'\n",
    "if my_constellation == 'cygnus':\n",
    "    print('cygnus is my favorite')\n",
    "else:\n",
    "    print('{} is not my favorite'.format(my_constellation))\n",
    "    print(my_constellation, 'is not my favorite')"
   ]
  },
  {
   "cell_type": "markdown",
   "metadata": {},
   "source": [
    "## Logical vs bitwise (and vs &)"
   ]
  },
  {
   "cell_type": "markdown",
   "metadata": {},
   "source": [
    "use and when using booleans (e.g. output is True or False):\n",
    "from StackOverflow:\n",
    "<raw>\n",
    "In theory, and and or come straight from boolean logic (and therefore operate on two booleans to produce a boolean), while & and | apply the boolean and/or to the individual bits of integers. "
   ]
  },
  {
   "cell_type": "code",
   "execution_count": 71,
   "metadata": {
    "collapsed": true
   },
   "outputs": [
    {
     "ename": "SyntaxError",
     "evalue": "invalid syntax (<ipython-input-71-817041b152c2>, line 1)",
     "output_type": "error",
     "traceback": [
      "\u001b[0;36m  File \u001b[0;32m\"<ipython-input-71-817041b152c2>\"\u001b[0;36m, line \u001b[0;32m1\u001b[0m\n\u001b[0;31m    if (x is not None) and (x is False)\u001b[0m\n\u001b[0m                                       ^\u001b[0m\n\u001b[0;31mSyntaxError\u001b[0m\u001b[0;31m:\u001b[0m invalid syntax\n"
     ]
    }
   ],
   "source": [
    "if (x is not None) and (x is False)"
   ]
  },
  {
   "cell_type": "markdown",
   "metadata": {},
   "source": [
    "use & when you have numbers or an array of numbers"
   ]
  },
  {
   "cell_type": "code",
   "execution_count": 72,
   "metadata": {
    "collapsed": true
   },
   "outputs": [
    {
     "ename": "SyntaxError",
     "evalue": "invalid syntax (<ipython-input-72-35795dd024b2>, line 2)",
     "output_type": "error",
     "traceback": [
      "\u001b[0;36m  File \u001b[0;32m\"<ipython-input-72-35795dd024b2>\"\u001b[0;36m, line \u001b[0;32m2\u001b[0m\n\u001b[0;31m    if (x < 4) & (x[2]==3)\u001b[0m\n\u001b[0m                          ^\u001b[0m\n\u001b[0;31mSyntaxError\u001b[0m\u001b[0;31m:\u001b[0m invalid syntax\n"
     ]
    }
   ],
   "source": [
    "x = np.array([1, 2, 3])\n",
    "if (x < 4) & (x[2]==3)"
   ]
  },
  {
   "cell_type": "markdown",
   "metadata": {},
   "source": [
    "## Examples of using formatting"
   ]
  },
  {
   "cell_type": "markdown",
   "metadata": {},
   "source": [
    "https://docs.python.org/3.1/library/string.html#format-examples"
   ]
  },
  {
   "cell_type": "code",
   "execution_count": 74,
   "metadata": {
    "collapsed": false
   },
   "outputs": [
    {
     "name": "stdout",
     "output_type": "stream",
     "text": [
      "4.625 4.5\n",
      "4.625 4.5\n"
     ]
    }
   ],
   "source": [
    "my_list = [1, 2, 5, 7, 9, 4, 5, 4]\n",
    "#find the total\n",
    "total = 0\n",
    "for num in my_list:\n",
    "    total = total + num\n",
    "#Calc mean\n",
    "mean = total/len(my_list)\n",
    "\n",
    "#Find median\n",
    "sorted_list = sorted(my_list)\n",
    "if len(my_list)%2 == 1:\n",
    "    median_indx = int(len(my_list)/2)\n",
    "    median = sorted_list[median_indx]\n",
    "else:\n",
    "    median_indx = int(len(my_list)/2)\n",
    "    median = (sorted_list[median_indx]+sorted_list[median_indx-1])/2\n",
    "print(mean, median)\n",
    "print(np.mean(np.array(my_list)), np.median(np.array(my_list)))"
   ]
  },
  {
   "cell_type": "code",
   "execution_count": 78,
   "metadata": {
    "collapsed": false
   },
   "outputs": [],
   "source": [
    "def calc_total(my_list):\n",
    "    total = 0\n",
    "    for num in my_list:\n",
    "        total = total + num\n",
    "    return total\n",
    "\n",
    "def calc_mean(my_list):\n",
    "    total = calc_total(my_list)\n",
    "    mean = total/len(my_list)\n",
    "    return mean\n",
    "\n",
    "def calc_median(my_list):\n",
    "    sorted_list = sorted(my_list)\n",
    "    if len(my_list)%2 == 1:\n",
    "        median_indx = int(len(my_list)/2)\n",
    "        median = sorted_list[median_indx]\n",
    "    else:\n",
    "        median_indx = int(len(my_list)/2)\n",
    "        median = (sorted_list[median_indx]+sorted_list[median_indx-1])/2\n",
    "    return median"
   ]
  },
  {
   "cell_type": "code",
   "execution_count": 79,
   "metadata": {
    "collapsed": false
   },
   "outputs": [
    {
     "name": "stdout",
     "output_type": "stream",
     "text": [
      "4.625 4.5\n"
     ]
    }
   ],
   "source": [
    "my_list = [1, 2, 5, 7, 9, 4, 5, 4]\n",
    "mean = calc_mean(my_list)\n",
    "median = calc_median(my_list)\n",
    "print(mean, median)"
   ]
  },
  {
   "cell_type": "code",
   "execution_count": 80,
   "metadata": {
    "collapsed": true
   },
   "outputs": [],
   "source": [
    "def calc_total(my_list):\n",
    "    total = 0\n",
    "    for num in my_list:\n",
    "        total = total + num\n",
    "    return total\n",
    "\n",
    "def calc_mean(my_list):\n",
    "    total = calc_total(my_list)\n",
    "    mean = total/len(my_list)\n",
    "    return mean\n",
    "\n",
    "def calc_median(my_list):\n",
    "    sorted_list = sorted(my_list)\n",
    "    if len(my_list)%2 == 1:\n",
    "        median_indx = len(my_list)//2\n",
    "        median = sorted_list[median_indx]\n",
    "    else:\n",
    "        median_indx = len(my_list)//2\n",
    "        median = (sorted_list[median_indx]+sorted_list[median_indx-1])/2\n",
    "    return median"
   ]
  },
  {
   "cell_type": "code",
   "execution_count": 81,
   "metadata": {
    "collapsed": true
   },
   "outputs": [],
   "source": [
    "def calc_total(my_list):\n",
    "    '''\n",
    "    sum up all number in a list\n",
    "    Input:\n",
    "        my_list: list of numbers\n",
    "    Output:\n",
    "        total: the sum of the input list\n",
    "        \n",
    "    total = cal_total([1, 2, 3, 4])\n",
    "    '''\n",
    "    total = 0\n",
    "    for num in my_list:\n",
    "        total = total + num\n",
    "    return total\n",
    "\n",
    "def calc_mean(my_list):\n",
    "    '''\n",
    "    Calculate the mean of a input list\n",
    "    '''\n",
    "    total = calc_total(my_list)\n",
    "    mean = total/len(my_list)\n",
    "    return mean\n",
    "\n",
    "def calc_median(my_list):\n",
    "    '''\n",
    "    Calculate the median of an input list\n",
    "    '''\n",
    "    sorted_list = sorted(my_list)\n",
    "    if len(my_list)%2 == 1:\n",
    "        median_indx = len(my_list)//2\n",
    "        median = sorted_list[median_indx]\n",
    "    else:\n",
    "        median_indx = len(my_list)//2\n",
    "        median = (sorted_list[median_indx]+sorted_list[median_indx-1])/2\n",
    "    return median"
   ]
  },
  {
   "cell_type": "code",
   "execution_count": 82,
   "metadata": {
    "collapsed": false
   },
   "outputs": [
    {
     "name": "stdout",
     "output_type": "stream",
     "text": [
      "Help on function calc_total in module __main__:\n",
      "\n",
      "calc_total(my_list)\n",
      "    sum up all number in a list\n",
      "    Input:\n",
      "        my_list: list of numbers\n",
      "    Output:\n",
      "        total: the sum of the input list\n",
      "        \n",
      "    total = cal_total([1, 2, 3, 4])\n",
      "\n"
     ]
    }
   ],
   "source": [
    "help(calc_total)"
   ]
  },
  {
   "cell_type": "markdown",
   "metadata": {},
   "source": [
    "## Solution"
   ]
  },
  {
   "cell_type": "code",
   "execution_count": 85,
   "metadata": {
    "collapsed": true
   },
   "outputs": [],
   "source": [
    "def convert_to_megaparsecs(dist_pc):\n",
    "    '''\n",
    "    convert a distance in parsecs to megaparsecs\n",
    "    '''\n",
    "    dist_mpc = dist_pc/10**6\n",
    "    return dist_mpc"
   ]
  },
  {
   "cell_type": "code",
   "execution_count": 86,
   "metadata": {
    "collapsed": false
   },
   "outputs": [
    {
     "name": "stdout",
     "output_type": "stream",
     "text": [
      "1.0\n"
     ]
    }
   ],
   "source": [
    "dist_pc = 1000000\n",
    "dist_mpc = convert_to_megaparsecs(dist_pc)\n",
    "print(dist_mpc)"
   ]
  },
  {
   "cell_type": "markdown",
   "metadata": {},
   "source": [
    "# Create a Hubble Diagram"
   ]
  },
  {
   "cell_type": "code",
   "execution_count": 87,
   "metadata": {
    "collapsed": true
   },
   "outputs": [],
   "source": [
    "from astropy.io import ascii\n",
    "from astropy import units"
   ]
  },
  {
   "cell_type": "code",
   "execution_count": 89,
   "metadata": {
    "collapsed": false
   },
   "outputs": [
    {
     "name": "stdout",
     "output_type": "stream",
     "text": [
      "M101 2011fe 13.310 0.117 29.135 0.045 -19.389 0.125 241\r\n",
      "N1015 2009ig 17.015 0.123 32.497 0.081 -19.047 0.147 2629  \r\n",
      "N1309 2002fk 16.756 0.116 32.523 0.055 -19.331 0.128 2136  \r\n",
      "N1365 2012fr 15.482 0.125 31.307 0.057 -19.390 0.137 1636  \r\n",
      "N1448 2001el 15.765 0.116 31.311 0.045 -19.111 0.125 1168  \r\n",
      "N2442 2015F 15.840 0.142 31.511 0.053 -19.236 0.152 1466\r\n",
      "N3021 1995al 16.527 0.117 32.498 0.090 -19.535 0.147 1541  \r\n",
      "N3370 1994ae 16.476 0.115 32.072 0.049 -19.161 0.125 1279  \r\n",
      "N3447 2012ht 16.265 0.124 31.908 0.043 -19.207 0.131 1067  \r\n",
      "N3972 2011by 16.048 0.116 31.587 0.070 -19.103 0.136 852  \r\n",
      "N3982 1998aq 15.795 0.115 31.737 0.069 -19.507 0.134 1109  \r\n",
      "N4038 2007sr 15.797 0.114 31.290 0.112 -19.058 0.160 1642  \r\n",
      "N4424 2012cg 15.110 0.109 31.080 0.292 -19.534 0.311 437  \r\n",
      "N4536 1981B 15.177 0.124 30.906 0.053 -19.293 0.135 1808\r\n",
      "N4639 1990N 15.983 0.115 31.532 0.071 -19.113 0.135 1018\r\n",
      "N5584 2007af 16.265 0.115 31.786 0.046 -19.085 0.124 1638  \r\n",
      "N5917 2005cf 16.572 0.115 32.263 0.102 -19.255 0.154 1904  \r\n",
      "N7250 2013dy 15.867 0.115 31.499 0.078 -19.196 0.139 1166  \r\n",
      "U9391 2003du 17.034 0.114 32.919 0.063 -19.449 0.130 1914\r\n"
     ]
    }
   ],
   "source": [
    "cat hubble_data.dat"
   ]
  },
  {
   "cell_type": "code",
   "execution_count": 90,
   "metadata": {
    "collapsed": true
   },
   "outputs": [],
   "source": [
    "tbdata = ascii.read('hubble_data.dat', names =  ['galaxy', \n",
    "                                                 'supernova',\n",
    "                                                'm', 'sig_m', \n",
    "                                                'dist_mod', 'sig_dist_mod',\n",
    "                                                'M', 'sig_M', \n",
    "                                                'velocity'])"
   ]
  },
  {
   "cell_type": "code",
   "execution_count": 92,
   "metadata": {
    "collapsed": false
   },
   "outputs": [
    {
     "data": {
      "text/html": [
       "&lt;Table length=19&gt;\n",
       "<table id=\"table4463957832\">\n",
       "<thead><tr><th>galaxy</th><th>supernova</th><th>m</th><th>sig_m</th><th>dist_mod</th><th>sig_dist_mod</th><th>M</th><th>sig_M</th><th>velocity</th></tr></thead>\n",
       "<thead><tr><th>str5</th><th>str6</th><th>float64</th><th>float64</th><th>float64</th><th>float64</th><th>float64</th><th>float64</th><th>int64</th></tr></thead>\n",
       "<tr><td>M101</td><td>2011fe</td><td>13.31</td><td>0.117</td><td>29.135</td><td>0.045</td><td>-19.389</td><td>0.125</td><td>241</td></tr>\n",
       "<tr><td>N1015</td><td>2009ig</td><td>17.015</td><td>0.123</td><td>32.497</td><td>0.081</td><td>-19.047</td><td>0.147</td><td>2629</td></tr>\n",
       "<tr><td>N1309</td><td>2002fk</td><td>16.756</td><td>0.116</td><td>32.523</td><td>0.055</td><td>-19.331</td><td>0.128</td><td>2136</td></tr>\n",
       "<tr><td>N1365</td><td>2012fr</td><td>15.482</td><td>0.125</td><td>31.307</td><td>0.057</td><td>-19.39</td><td>0.137</td><td>1636</td></tr>\n",
       "<tr><td>N1448</td><td>2001el</td><td>15.765</td><td>0.116</td><td>31.311</td><td>0.045</td><td>-19.111</td><td>0.125</td><td>1168</td></tr>\n",
       "<tr><td>N2442</td><td>2015F</td><td>15.84</td><td>0.142</td><td>31.511</td><td>0.053</td><td>-19.236</td><td>0.152</td><td>1466</td></tr>\n",
       "<tr><td>N3021</td><td>1995al</td><td>16.527</td><td>0.117</td><td>32.498</td><td>0.09</td><td>-19.535</td><td>0.147</td><td>1541</td></tr>\n",
       "<tr><td>N3370</td><td>1994ae</td><td>16.476</td><td>0.115</td><td>32.072</td><td>0.049</td><td>-19.161</td><td>0.125</td><td>1279</td></tr>\n",
       "<tr><td>N3447</td><td>2012ht</td><td>16.265</td><td>0.124</td><td>31.908</td><td>0.043</td><td>-19.207</td><td>0.131</td><td>1067</td></tr>\n",
       "<tr><td>N3972</td><td>2011by</td><td>16.048</td><td>0.116</td><td>31.587</td><td>0.07</td><td>-19.103</td><td>0.136</td><td>852</td></tr>\n",
       "<tr><td>N3982</td><td>1998aq</td><td>15.795</td><td>0.115</td><td>31.737</td><td>0.069</td><td>-19.507</td><td>0.134</td><td>1109</td></tr>\n",
       "<tr><td>N4038</td><td>2007sr</td><td>15.797</td><td>0.114</td><td>31.29</td><td>0.112</td><td>-19.058</td><td>0.16</td><td>1642</td></tr>\n",
       "<tr><td>N4424</td><td>2012cg</td><td>15.11</td><td>0.109</td><td>31.08</td><td>0.292</td><td>-19.534</td><td>0.311</td><td>437</td></tr>\n",
       "<tr><td>N4536</td><td>1981B</td><td>15.177</td><td>0.124</td><td>30.906</td><td>0.053</td><td>-19.293</td><td>0.135</td><td>1808</td></tr>\n",
       "<tr><td>N4639</td><td>1990N</td><td>15.983</td><td>0.115</td><td>31.532</td><td>0.071</td><td>-19.113</td><td>0.135</td><td>1018</td></tr>\n",
       "<tr><td>N5584</td><td>2007af</td><td>16.265</td><td>0.115</td><td>31.786</td><td>0.046</td><td>-19.085</td><td>0.124</td><td>1638</td></tr>\n",
       "<tr><td>N5917</td><td>2005cf</td><td>16.572</td><td>0.115</td><td>32.263</td><td>0.102</td><td>-19.255</td><td>0.154</td><td>1904</td></tr>\n",
       "<tr><td>N7250</td><td>2013dy</td><td>15.867</td><td>0.115</td><td>31.499</td><td>0.078</td><td>-19.196</td><td>0.139</td><td>1166</td></tr>\n",
       "<tr><td>U9391</td><td>2003du</td><td>17.034</td><td>0.114</td><td>32.919</td><td>0.063</td><td>-19.449</td><td>0.13</td><td>1914</td></tr>\n",
       "</table>"
      ],
      "text/plain": [
       "<Table length=19>\n",
       "galaxy supernova    m     sig_m  dist_mod sig_dist_mod    M     sig_M  velocity\n",
       " str5     str6   float64 float64 float64    float64    float64 float64  int64  \n",
       "------ --------- ------- ------- -------- ------------ ------- ------- --------\n",
       "  M101    2011fe   13.31   0.117   29.135        0.045 -19.389   0.125      241\n",
       " N1015    2009ig  17.015   0.123   32.497        0.081 -19.047   0.147     2629\n",
       " N1309    2002fk  16.756   0.116   32.523        0.055 -19.331   0.128     2136\n",
       " N1365    2012fr  15.482   0.125   31.307        0.057  -19.39   0.137     1636\n",
       " N1448    2001el  15.765   0.116   31.311        0.045 -19.111   0.125     1168\n",
       " N2442     2015F   15.84   0.142   31.511        0.053 -19.236   0.152     1466\n",
       " N3021    1995al  16.527   0.117   32.498         0.09 -19.535   0.147     1541\n",
       " N3370    1994ae  16.476   0.115   32.072        0.049 -19.161   0.125     1279\n",
       " N3447    2012ht  16.265   0.124   31.908        0.043 -19.207   0.131     1067\n",
       " N3972    2011by  16.048   0.116   31.587         0.07 -19.103   0.136      852\n",
       " N3982    1998aq  15.795   0.115   31.737        0.069 -19.507   0.134     1109\n",
       " N4038    2007sr  15.797   0.114    31.29        0.112 -19.058    0.16     1642\n",
       " N4424    2012cg   15.11   0.109    31.08        0.292 -19.534   0.311      437\n",
       " N4536     1981B  15.177   0.124   30.906        0.053 -19.293   0.135     1808\n",
       " N4639     1990N  15.983   0.115   31.532        0.071 -19.113   0.135     1018\n",
       " N5584    2007af  16.265   0.115   31.786        0.046 -19.085   0.124     1638\n",
       " N5917    2005cf  16.572   0.115   32.263        0.102 -19.255   0.154     1904\n",
       " N7250    2013dy  15.867   0.115   31.499        0.078 -19.196   0.139     1166\n",
       " U9391    2003du  17.034   0.114   32.919        0.063 -19.449    0.13     1914"
      ]
     },
     "execution_count": 92,
     "metadata": {},
     "output_type": "execute_result"
    }
   ],
   "source": [
    "tbdata"
   ]
  },
  {
   "cell_type": "code",
   "execution_count": 93,
   "metadata": {
    "collapsed": false
   },
   "outputs": [
    {
     "data": {
      "text/html": [
       "&lt;Row index=0&gt;\n",
       "<table id=\"table4463957832\">\n",
       "<thead><tr><th>galaxy</th><th>supernova</th><th>m</th><th>sig_m</th><th>dist_mod</th><th>sig_dist_mod</th><th>M</th><th>sig_M</th><th>velocity</th></tr></thead>\n",
       "<thead><tr><th>str5</th><th>str6</th><th>float64</th><th>float64</th><th>float64</th><th>float64</th><th>float64</th><th>float64</th><th>int64</th></tr></thead>\n",
       "<tr><td>M101</td><td>2011fe</td><td>13.31</td><td>0.117</td><td>29.135</td><td>0.045</td><td>-19.389</td><td>0.125</td><td>241</td></tr>\n",
       "</table>"
      ],
      "text/plain": [
       "<Row index=0>\n",
       "galaxy supernova    m     sig_m  dist_mod sig_dist_mod    M     sig_M  velocity\n",
       " str5     str6   float64 float64 float64    float64    float64 float64  int64  \n",
       "------ --------- ------- ------- -------- ------------ ------- ------- --------\n",
       "  M101    2011fe   13.31   0.117   29.135        0.045 -19.389   0.125      241"
      ]
     },
     "execution_count": 93,
     "metadata": {},
     "output_type": "execute_result"
    }
   ],
   "source": [
    "tbdata[0]"
   ]
  },
  {
   "cell_type": "code",
   "execution_count": 94,
   "metadata": {
    "collapsed": false
   },
   "outputs": [
    {
     "data": {
      "text/html": [
       "&lt;Column name=&apos;supernova&apos; dtype=&apos;str6&apos; length=19&gt;\n",
       "<table>\n",
       "<tr><td>2011fe</td></tr>\n",
       "<tr><td>2009ig</td></tr>\n",
       "<tr><td>2002fk</td></tr>\n",
       "<tr><td>2012fr</td></tr>\n",
       "<tr><td>2001el</td></tr>\n",
       "<tr><td>2015F</td></tr>\n",
       "<tr><td>1995al</td></tr>\n",
       "<tr><td>1994ae</td></tr>\n",
       "<tr><td>2012ht</td></tr>\n",
       "<tr><td>2011by</td></tr>\n",
       "<tr><td>1998aq</td></tr>\n",
       "<tr><td>2007sr</td></tr>\n",
       "<tr><td>2012cg</td></tr>\n",
       "<tr><td>1981B</td></tr>\n",
       "<tr><td>1990N</td></tr>\n",
       "<tr><td>2007af</td></tr>\n",
       "<tr><td>2005cf</td></tr>\n",
       "<tr><td>2013dy</td></tr>\n",
       "<tr><td>2003du</td></tr>\n",
       "</table>"
      ],
      "text/plain": [
       "<Column name='supernova' dtype='str6' length=19>\n",
       "2011fe\n",
       "2009ig\n",
       "2002fk\n",
       "2012fr\n",
       "2001el\n",
       " 2015F\n",
       "1995al\n",
       "1994ae\n",
       "2012ht\n",
       "2011by\n",
       "1998aq\n",
       "2007sr\n",
       "2012cg\n",
       " 1981B\n",
       " 1990N\n",
       "2007af\n",
       "2005cf\n",
       "2013dy\n",
       "2003du"
      ]
     },
     "execution_count": 94,
     "metadata": {},
     "output_type": "execute_result"
    }
   ],
   "source": [
    "tbdata['supernova']"
   ]
  },
  {
   "cell_type": "markdown",
   "metadata": {},
   "source": [
    "## Plot data"
   ]
  },
  {
   "cell_type": "code",
   "execution_count": 95,
   "metadata": {
    "collapsed": true
   },
   "outputs": [],
   "source": [
    "from matplotlib import pyplot\n",
    "%matplotlib inline"
   ]
  },
  {
   "cell_type": "code",
   "execution_count": 96,
   "metadata": {
    "collapsed": false
   },
   "outputs": [
    {
     "data": {
      "text/plain": [
       "[<matplotlib.lines.Line2D at 0x110016668>]"
      ]
     },
     "execution_count": 96,
     "metadata": {},
     "output_type": "execute_result"
    },
    {
     "data": {
      "image/png": "[encoded data removed]",
      "text/plain": [
       "<matplotlib.figure.Figure at 0x10afabd30>"
      ]
     },
     "metadata": {},
     "output_type": "display_data"
    }
   ],
   "source": [
    "pyplot.plot(tbdata['dist_mod'], tbdata['velocity'], marker = 'o', linestyle='none')"
   ]
  },
  {
   "cell_type": "markdown",
   "metadata": {},
   "source": [
    "## Solution"
   ]
  },
  {
   "cell_type": "code",
   "execution_count": 98,
   "metadata": {
    "collapsed": true
   },
   "outputs": [],
   "source": [
    "def find_distance(dist_mod):\n",
    "    '''\n",
    "    Find the distance in parsecs given the distance modulus\n",
    "    '''\n",
    "    dist = 10**((dist_mod+5)/5)\n",
    "    return dist"
   ]
  },
  {
   "cell_type": "code",
   "execution_count": 99,
   "metadata": {
    "collapsed": false
   },
   "outputs": [
    {
     "name": "stdout",
     "output_type": "stream",
     "text": [
      "   dist_mod  \n",
      "-------------\n",
      "6714288.52926\n",
      "31579118.2863\n",
      "31959501.7481\n",
      "18255763.4619\n",
      "18289422.8128\n",
      "20053953.3343\n",
      "31593664.3568\n",
      "25965697.9027\n",
      "24076868.4561\n",
      "20768254.6378\n",
      "22253585.7805\n",
      "18113400.9262\n",
      "16443717.2321\n",
      "15177491.5586\n",
      "20248833.0653\n",
      "22761453.9314\n",
      "28353064.1176\n",
      "19943436.7426\n",
      "38353058.2457\n"
     ]
    }
   ],
   "source": [
    "dist_pc = find_distance(tbdata['dist_mod'])\n",
    "print(dist_pc)"
   ]
  },
  {
   "cell_type": "code",
   "execution_count": 100,
   "metadata": {
    "collapsed": false
   },
   "outputs": [
    {
     "data": {
      "text/plain": [
       "array([ 29.135,  32.497,  32.523,  31.307,  31.311,  31.511,  32.498,\n",
       "        32.072,  31.908,  31.587,  31.737,  31.29 ,  31.08 ,  30.906,\n",
       "        31.532,  31.786,  32.263,  31.499,  32.919])"
      ]
     },
     "execution_count": 100,
     "metadata": {},
     "output_type": "execute_result"
    }
   ],
   "source": [
    "tbdata['dist_mod'].data"
   ]
  },
  {
   "cell_type": "code",
   "execution_count": 101,
   "metadata": {
    "collapsed": false
   },
   "outputs": [
    {
     "name": "stdout",
     "output_type": "stream",
     "text": [
      "   dist_mod  \n",
      "-------------\n",
      "6.71428852926\n",
      "31.5791182863\n",
      "31.9595017481\n",
      "18.2557634619\n",
      "18.2894228128\n",
      "20.0539533343\n",
      "31.5936643568\n",
      "25.9656979027\n",
      "24.0768684561\n",
      "20.7682546378\n",
      "22.2535857805\n",
      "18.1134009262\n",
      "16.4437172321\n",
      "15.1774915586\n",
      "20.2488330653\n",
      "22.7614539314\n",
      "28.3530641176\n",
      "19.9434367426\n",
      "38.3530582457\n"
     ]
    }
   ],
   "source": [
    "dist_mpc = convert_to_megaparsecs(dist_pc)\n",
    "print(dist_mpc)"
   ]
  },
  {
   "cell_type": "code",
   "execution_count": 102,
   "metadata": {
    "collapsed": true
   },
   "outputs": [],
   "source": [
    "def convert_to_megaparsecs2(dist):\n",
    "    '''\n",
    "    takes a distance in any unit and converts to megaparsecs\n",
    "    '''\n",
    "    dist_mpc = dist.to(units.Mpc)\n",
    "    return dist_mpc"
   ]
  },
  {
   "cell_type": "code",
   "execution_count": 105,
   "metadata": {
    "collapsed": true
   },
   "outputs": [
    {
     "name": "stdout",
     "output_type": "stream",
     "text": [
      "[  6714288.52925954  31579118.28632249  31959501.74814766\n",
      "  18255763.46188069  18289422.81281762  20053953.33429825\n",
      "  31593664.35682509  25965697.90273787  24076868.4561245   20768254.63777393\n",
      "  22253585.7804651   18113400.92619602  16443717.23214929\n",
      "  15177491.55861248  20248833.06530556  22761453.93141647\n",
      "  28353064.11760683  19943436.74257341  38353058.24568585] pc\n",
      "[  6.71428853  31.57911829  31.95950175  18.25576346  18.28942281\n",
      "  20.05395333  31.59366436  25.9656979   24.07686846  20.76825464\n",
      "  22.25358578  18.11340093  16.44371723  15.17749156  20.24883307\n",
      "  22.76145393  28.35306412  19.94343674  38.35305825] Mpc\n"
     ]
    }
   ],
   "source": [
    "dist_pc = find_distance(tbdata['dist_mod'])*units.parsec\n",
    "print(dist_pc)\n",
    "dist_mpc2 = convert_to_megaparsecs2(dist_pc)\n",
    "print(dist_mpc2)"
   ]
  },
  {
   "cell_type": "markdown",
   "metadata": {},
   "source": [
    "Exercise:\n",
    "    Plot velocity (y) and dist in Mpc (x)"
   ]
  },
  {
   "cell_type": "code",
   "execution_count": 108,
   "metadata": {
    "collapsed": false
   },
   "outputs": [
    {
     "data": {
      "text/plain": [
       "<matplotlib.collections.PathCollection at 0x11054da90>"
      ]
     },
     "execution_count": 108,
     "metadata": {},
     "output_type": "execute_result"
    },
    {
     "data": {
      "image/png": "[encoded data removed]",
      "text/plain": [
       "<matplotlib.figure.Figure at 0x1103ea588>"
      ]
     },
     "metadata": {},
     "output_type": "display_data"
    }
   ],
   "source": [
    "pyplot.scatter(dist_mpc, tbdata['velocity'])"
   ]
  },
  {
   "cell_type": "code",
   "execution_count": 109,
   "metadata": {
    "collapsed": false
   },
   "outputs": [
    {
     "data": {
      "text/plain": [
       "array([  53.6296996 ,  186.40616205])"
      ]
     },
     "execution_count": 109,
     "metadata": {},
     "output_type": "execute_result"
    }
   ],
   "source": [
    "fit = np.polyfit(dist_mpc, tbdata['velocity'], 1)\n",
    "fit"
   ]
  },
  {
   "cell_type": "code",
   "execution_count": 112,
   "metadata": {
    "collapsed": false
   },
   "outputs": [
    {
     "data": {
      "text/plain": [
       "array([  546.49143891,  1000.37047505,  1068.27777755,  1157.82241249,\n",
       "        1165.45727251,  1167.26241339,  1255.96668358,  1261.8936552 ,\n",
       "        1272.34499663,  1300.20141953,  1379.85928252,  1407.09609889,\n",
       "        1477.6413847 ,  1578.93874052,  1706.97247347,  1879.98478943,\n",
       "        1880.76489083,  1900.38464023,  2243.26915457])"
      ]
     },
     "execution_count": 112,
     "metadata": {},
     "output_type": "execute_result"
    }
   ],
   "source": [
    "sort_dist_mpc = sorted(dist_mpc)\n",
    "y_fit = np.polyval(fit, sort_dist_mpc)\n",
    "y_fit"
   ]
  },
  {
   "cell_type": "code",
   "execution_count": 118,
   "metadata": {
    "collapsed": false
   },
   "outputs": [
    {
     "data": {
      "image/png": "[encoded data removed]",
      "text/plain": [
       "<matplotlib.figure.Figure at 0x110ed5978>"
      ]
     },
     "metadata": {},
     "output_type": "display_data"
    }
   ],
   "source": [
    "pyplot.scatter(dist_mpc, tbdata['velocity'])\n",
    "pyplot.plot(sort_dist_mpc, y_fit)\n",
    "pyplot.plot(sort_dist_mpc, y_fit)\n",
    "pyplot.xlabel('Distance (Mpc)')\n",
    "pyplot.ylabel(r'Velocity ($\\frac{km}{s}$)')\n",
    "pyplot.title('Hubble Diagram')\n",
    "pyplot.savefig('hubble_diagram.pdf')"
   ]
  },
  {
   "cell_type": "code",
   "execution_count": 119,
   "metadata": {
    "collapsed": false
   },
   "outputs": [
    {
     "name": "stdout",
     "output_type": "stream",
     "text": [
      "hubble_data.dat         hubble_diagram.pdf      student_notebook.ipynb\r\n"
     ]
    }
   ],
   "source": [
    "ls"
   ]
  },
  {
   "cell_type": "code",
   "execution_count": null,
   "metadata": {
    "collapsed": true
   },
   "outputs": [],
   "source": []
  }
 ],
 "metadata": {
  "kernelspec": {
   "display_name": "Python 3",
   "language": "python",
   "name": "python3"
  },
  "language_info": {
   "codemirror_mode": {
    "name": "ipython",
    "version": 3
   },
   "file_extension": ".py",
   "mimetype": "text/x-python",
   "name": "python",
   "nbconvert_exporter": "python",
   "pygments_lexer": "ipython3",
   "version": "3.5.2"
  }
 },
 "nbformat": 4,
 "nbformat_minor": 0
}
