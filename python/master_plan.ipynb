{
 "cells": [
  {
   "cell_type": "markdown",
   "metadata": {},
   "source": [
    "# The Notebook"
   ]
  },
  {
   "cell_type": "markdown",
   "metadata": {},
   "source": [
    "### Control vs Edit modes"
   ]
  },
  {
   "cell_type": "markdown",
   "metadata": {},
   "source": [
    "* esc for control mode\n",
    "    * a : insert a new cell above current cell\n",
    "    * b : insert a new cell below current cell\n",
    "    * d+d : delete current cell\n",
    "    * m : convert cell to markdown\n",
    "    * y : convert cell to code\n",
    "* enter for edit mode\n",
    "    * shift+enter : execute cell"
   ]
  },
  {
   "cell_type": "markdown",
   "metadata": {},
   "source": [
    "### Code vs Markdown Cells"
   ]
  },
  {
   "cell_type": "markdown",
   "metadata": {},
   "source": [
    "* Markdown: \n",
    "    * bullets\n",
    "    * headings\n",
    "    * equations\n",
    "    * links\n",
    "    * very simiar to HTML"
   ]
  },
  {
   "cell_type": "markdown",
   "metadata": {},
   "source": [
    "### Navigating the notebook"
   ]
  },
  {
   "cell_type": "markdown",
   "metadata": {},
   "source": [
    "* plus : add a new cell\n",
    "* File--> Save and Checkpoint or picture of floppy drive: save\n",
    "* Close browser window and type <code>ctl+c<code> twice in command line : Exit"
   ]
  },
  {
   "cell_type": "markdown",
   "metadata": {},
   "source": [
    "# Basic Objects"
   ]
  },
  {
   "cell_type": "markdown",
   "metadata": {},
   "source": [
    "## Number"
   ]
  },
  {
   "cell_type": "markdown",
   "metadata": {},
   "source": [
    "### Integer"
   ]
  },
  {
   "cell_type": "code",
   "execution_count": 3,
   "metadata": {
    "collapsed": false
   },
   "outputs": [
    {
     "data": {
      "text/plain": [
       "1"
      ]
     },
     "execution_count": 3,
     "metadata": {},
     "output_type": "execute_result"
    }
   ],
   "source": [
    "1"
   ]
  },
  {
   "cell_type": "code",
   "execution_count": 4,
   "metadata": {
    "collapsed": false
   },
   "outputs": [
    {
     "data": {
      "text/plain": [
       "2"
      ]
     },
     "execution_count": 4,
     "metadata": {},
     "output_type": "execute_result"
    }
   ],
   "source": [
    "2"
   ]
  },
  {
   "cell_type": "code",
   "execution_count": 5,
   "metadata": {
    "collapsed": false
   },
   "outputs": [
    {
     "data": {
      "text/plain": [
       "3"
      ]
     },
     "execution_count": 5,
     "metadata": {},
     "output_type": "execute_result"
    }
   ],
   "source": [
    "1+2"
   ]
  },
  {
   "cell_type": "markdown",
   "metadata": {},
   "source": [
    "### Floating Point (double precision default)"
   ]
  },
  {
   "cell_type": "code",
   "execution_count": 6,
   "metadata": {
    "collapsed": false
   },
   "outputs": [
    {
     "data": {
      "text/plain": [
       "1.0"
      ]
     },
     "execution_count": 6,
     "metadata": {},
     "output_type": "execute_result"
    }
   ],
   "source": [
    "1."
   ]
  },
  {
   "cell_type": "code",
   "execution_count": 7,
   "metadata": {
    "collapsed": false
   },
   "outputs": [
    {
     "data": {
      "text/plain": [
       "2.0"
      ]
     },
     "execution_count": 7,
     "metadata": {},
     "output_type": "execute_result"
    }
   ],
   "source": [
    "2."
   ]
  },
  {
   "cell_type": "code",
   "execution_count": 8,
   "metadata": {
    "collapsed": false
   },
   "outputs": [
    {
     "data": {
      "text/plain": [
       "2.0"
      ]
     },
     "execution_count": 8,
     "metadata": {},
     "output_type": "execute_result"
    }
   ],
   "source": [
    "1.*2."
   ]
  },
  {
   "cell_type": "markdown",
   "metadata": {},
   "source": [
    "### Arithmatic and libraries"
   ]
  },
  {
   "cell_type": "code",
   "execution_count": 9,
   "metadata": {
    "collapsed": false
   },
   "outputs": [
    {
     "data": {
      "text/plain": [
       "0.5"
      ]
     },
     "execution_count": 9,
     "metadata": {},
     "output_type": "execute_result"
    }
   ],
   "source": [
    "1/2"
   ]
  },
  {
   "cell_type": "code",
   "execution_count": 10,
   "metadata": {
    "collapsed": false
   },
   "outputs": [
    {
     "data": {
      "text/plain": [
       "-1"
      ]
     },
     "execution_count": 10,
     "metadata": {},
     "output_type": "execute_result"
    }
   ],
   "source": [
    "2-3"
   ]
  },
  {
   "cell_type": "code",
   "execution_count": 11,
   "metadata": {
    "collapsed": false
   },
   "outputs": [
    {
     "data": {
      "text/plain": [
       "8"
      ]
     },
     "execution_count": 11,
     "metadata": {},
     "output_type": "execute_result"
    }
   ],
   "source": [
    "2**3"
   ]
  },
  {
   "cell_type": "markdown",
   "metadata": {},
   "source": [
    "When you open Python you only have access to basic operations. For more advanced objects and operations you have to import a library. Here we import the math library"
   ]
  },
  {
   "cell_type": "code",
   "execution_count": 12,
   "metadata": {
    "collapsed": true
   },
   "outputs": [],
   "source": [
    "import math"
   ]
  },
  {
   "cell_type": "code",
   "execution_count": 13,
   "metadata": {
    "collapsed": false
   },
   "outputs": [
    {
     "name": "stdout",
     "output_type": "stream",
     "text": [
      "Help on module math:\n",
      "\n",
      "NAME\n",
      "    math\n",
      "\n",
      "MODULE REFERENCE\n",
      "    https://docs.python.org/3.5/library/math.html\n",
      "    \n",
      "    The following documentation is automatically generated from the Python\n",
      "    source files.  It may be incomplete, incorrect or include features that\n",
      "    are considered implementation detail and may vary between Python\n",
      "    implementations.  When in doubt, consult the module reference at the\n",
      "    location listed above.\n",
      "\n",
      "DESCRIPTION\n",
      "    This module is always available.  It provides access to the\n",
      "    mathematical functions defined by the C standard.\n",
      "\n",
      "FUNCTIONS\n",
      "    acos(...)\n",
      "        acos(x)\n",
      "        \n",
      "        Return the arc cosine (measured in radians) of x.\n",
      "    \n",
      "    acosh(...)\n",
      "        acosh(x)\n",
      "        \n",
      "        Return the inverse hyperbolic cosine of x.\n",
      "    \n",
      "    asin(...)\n",
      "        asin(x)\n",
      "        \n",
      "        Return the arc sine (measured in radians) of x.\n",
      "    \n",
      "    asinh(...)\n",
      "        asinh(x)\n",
      "        \n",
      "        Return the inverse hyperbolic sine of x.\n",
      "    \n",
      "    atan(...)\n",
      "        atan(x)\n",
      "        \n",
      "        Return the arc tangent (measured in radians) of x.\n",
      "    \n",
      "    atan2(...)\n",
      "        atan2(y, x)\n",
      "        \n",
      "        Return the arc tangent (measured in radians) of y/x.\n",
      "        Unlike atan(y/x), the signs of both x and y are considered.\n",
      "    \n",
      "    atanh(...)\n",
      "        atanh(x)\n",
      "        \n",
      "        Return the inverse hyperbolic tangent of x.\n",
      "    \n",
      "    ceil(...)\n",
      "        ceil(x)\n",
      "        \n",
      "        Return the ceiling of x as an Integral.\n",
      "        This is the smallest integer >= x.\n",
      "    \n",
      "    copysign(...)\n",
      "        copysign(x, y)\n",
      "        \n",
      "        Return a float with the magnitude (absolute value) of x but the sign \n",
      "        of y. On platforms that support signed zeros, copysign(1.0, -0.0) \n",
      "        returns -1.0.\n",
      "    \n",
      "    cos(...)\n",
      "        cos(x)\n",
      "        \n",
      "        Return the cosine of x (measured in radians).\n",
      "    \n",
      "    cosh(...)\n",
      "        cosh(x)\n",
      "        \n",
      "        Return the hyperbolic cosine of x.\n",
      "    \n",
      "    degrees(...)\n",
      "        degrees(x)\n",
      "        \n",
      "        Convert angle x from radians to degrees.\n",
      "    \n",
      "    erf(...)\n",
      "        erf(x)\n",
      "        \n",
      "        Error function at x.\n",
      "    \n",
      "    erfc(...)\n",
      "        erfc(x)\n",
      "        \n",
      "        Complementary error function at x.\n",
      "    \n",
      "    exp(...)\n",
      "        exp(x)\n",
      "        \n",
      "        Return e raised to the power of x.\n",
      "    \n",
      "    expm1(...)\n",
      "        expm1(x)\n",
      "        \n",
      "        Return exp(x)-1.\n",
      "        This function avoids the loss of precision involved in the direct evaluation of exp(x)-1 for small x.\n",
      "    \n",
      "    fabs(...)\n",
      "        fabs(x)\n",
      "        \n",
      "        Return the absolute value of the float x.\n",
      "    \n",
      "    factorial(...)\n",
      "        factorial(x) -> Integral\n",
      "        \n",
      "        Find x!. Raise a ValueError if x is negative or non-integral.\n",
      "    \n",
      "    floor(...)\n",
      "        floor(x)\n",
      "        \n",
      "        Return the floor of x as an Integral.\n",
      "        This is the largest integer <= x.\n",
      "    \n",
      "    fmod(...)\n",
      "        fmod(x, y)\n",
      "        \n",
      "        Return fmod(x, y), according to platform C.  x % y may differ.\n",
      "    \n",
      "    frexp(...)\n",
      "        frexp(x)\n",
      "        \n",
      "        Return the mantissa and exponent of x, as pair (m, e).\n",
      "        m is a float and e is an int, such that x = m * 2.**e.\n",
      "        If x is 0, m and e are both 0.  Else 0.5 <= abs(m) < 1.0.\n",
      "    \n",
      "    fsum(...)\n",
      "        fsum(iterable)\n",
      "        \n",
      "        Return an accurate floating point sum of values in the iterable.\n",
      "        Assumes IEEE-754 floating point arithmetic.\n",
      "    \n",
      "    gamma(...)\n",
      "        gamma(x)\n",
      "        \n",
      "        Gamma function at x.\n",
      "    \n",
      "    gcd(...)\n",
      "        gcd(x, y) -> int\n",
      "        greatest common divisor of x and y\n",
      "    \n",
      "    hypot(...)\n",
      "        hypot(x, y)\n",
      "        \n",
      "        Return the Euclidean distance, sqrt(x*x + y*y).\n",
      "    \n",
      "    isclose(...)\n",
      "        isclose(a, b, *, rel_tol=1e-09, abs_tol=0.0) -> bool\n",
      "        \n",
      "        Determine whether two floating point numbers are close in value.\n",
      "        \n",
      "           rel_tol\n",
      "               maximum difference for being considered \"close\", relative to the\n",
      "               magnitude of the input values\n",
      "            abs_tol\n",
      "               maximum difference for being considered \"close\", regardless of the\n",
      "               magnitude of the input values\n",
      "        \n",
      "        Return True if a is close in value to b, and False otherwise.\n",
      "        \n",
      "        For the values to be considered close, the difference between them\n",
      "        must be smaller than at least one of the tolerances.\n",
      "        \n",
      "        -inf, inf and NaN behave similarly to the IEEE 754 Standard.  That\n",
      "        is, NaN is not close to anything, even itself.  inf and -inf are\n",
      "        only close to themselves.\n",
      "    \n",
      "    isfinite(...)\n",
      "        isfinite(x) -> bool\n",
      "        \n",
      "        Return True if x is neither an infinity nor a NaN, and False otherwise.\n",
      "    \n",
      "    isinf(...)\n",
      "        isinf(x) -> bool\n",
      "        \n",
      "        Return True if x is a positive or negative infinity, and False otherwise.\n",
      "    \n",
      "    isnan(...)\n",
      "        isnan(x) -> bool\n",
      "        \n",
      "        Return True if x is a NaN (not a number), and False otherwise.\n",
      "    \n",
      "    ldexp(...)\n",
      "        ldexp(x, i)\n",
      "        \n",
      "        Return x * (2**i).\n",
      "    \n",
      "    lgamma(...)\n",
      "        lgamma(x)\n",
      "        \n",
      "        Natural logarithm of absolute value of Gamma function at x.\n",
      "    \n",
      "    log(...)\n",
      "        log(x[, base])\n",
      "        \n",
      "        Return the logarithm of x to the given base.\n",
      "        If the base not specified, returns the natural logarithm (base e) of x.\n",
      "    \n",
      "    log10(...)\n",
      "        log10(x)\n",
      "        \n",
      "        Return the base 10 logarithm of x.\n",
      "    \n",
      "    log1p(...)\n",
      "        log1p(x)\n",
      "        \n",
      "        Return the natural logarithm of 1+x (base e).\n",
      "        The result is computed in a way which is accurate for x near zero.\n",
      "    \n",
      "    log2(...)\n",
      "        log2(x)\n",
      "        \n",
      "        Return the base 2 logarithm of x.\n",
      "    \n",
      "    modf(...)\n",
      "        modf(x)\n",
      "        \n",
      "        Return the fractional and integer parts of x.  Both results carry the sign\n",
      "        of x and are floats.\n",
      "    \n",
      "    pow(...)\n",
      "        pow(x, y)\n",
      "        \n",
      "        Return x**y (x to the power of y).\n",
      "    \n",
      "    radians(...)\n",
      "        radians(x)\n",
      "        \n",
      "        Convert angle x from degrees to radians.\n",
      "    \n",
      "    sin(...)\n",
      "        sin(x)\n",
      "        \n",
      "        Return the sine of x (measured in radians).\n",
      "    \n",
      "    sinh(...)\n",
      "        sinh(x)\n",
      "        \n",
      "        Return the hyperbolic sine of x.\n",
      "    \n",
      "    sqrt(...)\n",
      "        sqrt(x)\n",
      "        \n",
      "        Return the square root of x.\n",
      "    \n",
      "    tan(...)\n",
      "        tan(x)\n",
      "        \n",
      "        Return the tangent of x (measured in radians).\n",
      "    \n",
      "    tanh(...)\n",
      "        tanh(x)\n",
      "        \n",
      "        Return the hyperbolic tangent of x.\n",
      "    \n",
      "    trunc(...)\n",
      "        trunc(x:Real) -> Integral\n",
      "        \n",
      "        Truncates x to the nearest Integral toward 0. Uses the __trunc__ magic method.\n",
      "\n",
      "DATA\n",
      "    e = 2.718281828459045\n",
      "    inf = inf\n",
      "    nan = nan\n",
      "    pi = 3.141592653589793\n",
      "\n",
      "FILE\n",
      "    //anaconda/lib/python3.5/lib-dynload/math.so\n",
      "\n",
      "\n"
     ]
    }
   ],
   "source": [
    "help(math)"
   ]
  },
  {
   "cell_type": "code",
   "execution_count": 14,
   "metadata": {
    "collapsed": false
   },
   "outputs": [
    {
     "data": {
      "text/plain": [
       "['__doc__',\n",
       " '__file__',\n",
       " '__loader__',\n",
       " '__name__',\n",
       " '__package__',\n",
       " '__spec__',\n",
       " 'acos',\n",
       " 'acosh',\n",
       " 'asin',\n",
       " 'asinh',\n",
       " 'atan',\n",
       " 'atan2',\n",
       " 'atanh',\n",
       " 'ceil',\n",
       " 'copysign',\n",
       " 'cos',\n",
       " 'cosh',\n",
       " 'degrees',\n",
       " 'e',\n",
       " 'erf',\n",
       " 'erfc',\n",
       " 'exp',\n",
       " 'expm1',\n",
       " 'fabs',\n",
       " 'factorial',\n",
       " 'floor',\n",
       " 'fmod',\n",
       " 'frexp',\n",
       " 'fsum',\n",
       " 'gamma',\n",
       " 'gcd',\n",
       " 'hypot',\n",
       " 'inf',\n",
       " 'isclose',\n",
       " 'isfinite',\n",
       " 'isinf',\n",
       " 'isnan',\n",
       " 'ldexp',\n",
       " 'lgamma',\n",
       " 'log',\n",
       " 'log10',\n",
       " 'log1p',\n",
       " 'log2',\n",
       " 'modf',\n",
       " 'nan',\n",
       " 'pi',\n",
       " 'pow',\n",
       " 'radians',\n",
       " 'sin',\n",
       " 'sinh',\n",
       " 'sqrt',\n",
       " 'tan',\n",
       " 'tanh',\n",
       " 'trunc']"
      ]
     },
     "execution_count": 14,
     "metadata": {},
     "output_type": "execute_result"
    }
   ],
   "source": [
    "dir(math)"
   ]
  },
  {
   "cell_type": "code",
   "execution_count": 15,
   "metadata": {
    "collapsed": false
   },
   "outputs": [
    {
     "ename": "SyntaxError",
     "evalue": "invalid syntax (<ipython-input-15-8b58a123d21d>, line 1)",
     "output_type": "error",
     "traceback": [
      "\u001b[0;36m  File \u001b[0;32m\"<ipython-input-15-8b58a123d21d>\"\u001b[0;36m, line \u001b[0;32m1\u001b[0m\n\u001b[0;31m    math.  (tab after typing the dot)\u001b[0m\n\u001b[0m           ^\u001b[0m\n\u001b[0;31mSyntaxError\u001b[0m\u001b[0;31m:\u001b[0m invalid syntax\n"
     ]
    }
   ],
   "source": [
    "math.  (tab after typing the dot)"
   ]
  },
  {
   "cell_type": "code",
   "execution_count": 16,
   "metadata": {
    "collapsed": false
   },
   "outputs": [
    {
     "data": {
      "text/plain": [
       "3.0"
      ]
     },
     "execution_count": 16,
     "metadata": {},
     "output_type": "execute_result"
    }
   ],
   "source": [
    "math.log2(8)"
   ]
  },
  {
   "cell_type": "markdown",
   "metadata": {},
   "source": [
    "*Notice I am telling Python that log2 is in the math library by using the .*"
   ]
  },
  {
   "cell_type": "markdown",
   "metadata": {},
   "source": [
    "### String"
   ]
  },
  {
   "cell_type": "code",
   "execution_count": 17,
   "metadata": {
    "collapsed": false
   },
   "outputs": [
    {
     "data": {
      "text/plain": [
       "'star'"
      ]
     },
     "execution_count": 17,
     "metadata": {},
     "output_type": "execute_result"
    }
   ],
   "source": [
    "'star'"
   ]
  },
  {
   "cell_type": "code",
   "execution_count": 18,
   "metadata": {
    "collapsed": false
   },
   "outputs": [
    {
     "data": {
      "text/plain": [
       "'shootingstar'"
      ]
     },
     "execution_count": 18,
     "metadata": {},
     "output_type": "execute_result"
    }
   ],
   "source": [
    "'shooting'+'star'"
   ]
  },
  {
   "cell_type": "code",
   "execution_count": 19,
   "metadata": {
    "collapsed": false
   },
   "outputs": [
    {
     "data": {
      "text/plain": [
       "'starstarstar'"
      ]
     },
     "execution_count": 19,
     "metadata": {},
     "output_type": "execute_result"
    }
   ],
   "source": [
    "'star'*3"
   ]
  },
  {
   "cell_type": "markdown",
   "metadata": {},
   "source": [
    "*Notice that arithmatic acts differently on strings than on numbers*"
   ]
  },
  {
   "cell_type": "markdown",
   "metadata": {},
   "source": [
    "the string 'star' has 4 pieces"
   ]
  },
  {
   "cell_type": "code",
   "execution_count": 20,
   "metadata": {
    "collapsed": false
   },
   "outputs": [
    {
     "data": {
      "text/plain": [
       "'s'"
      ]
     },
     "execution_count": 20,
     "metadata": {},
     "output_type": "execute_result"
    }
   ],
   "source": [
    "'star'[0]"
   ]
  },
  {
   "cell_type": "code",
   "execution_count": 21,
   "metadata": {
    "collapsed": false
   },
   "outputs": [
    {
     "data": {
      "text/plain": [
       "'r'"
      ]
     },
     "execution_count": 21,
     "metadata": {},
     "output_type": "execute_result"
    }
   ],
   "source": [
    "'star'[3]"
   ]
  },
  {
   "cell_type": "markdown",
   "metadata": {},
   "source": [
    "*Notice that indexing in Python starts at 0 not 1*"
   ]
  },
  {
   "cell_type": "markdown",
   "metadata": {},
   "source": [
    "We can also select a section of the string 'star'"
   ]
  },
  {
   "cell_type": "code",
   "execution_count": 22,
   "metadata": {
    "collapsed": false
   },
   "outputs": [
    {
     "data": {
      "text/plain": [
       "'st'"
      ]
     },
     "execution_count": 22,
     "metadata": {},
     "output_type": "execute_result"
    }
   ],
   "source": [
    "'star'[0:2]"
   ]
  },
  {
   "cell_type": "markdown",
   "metadata": {},
   "source": [
    "*Notice that you include the first index and exclude the second index*"
   ]
  },
  {
   "cell_type": "markdown",
   "metadata": {},
   "source": [
    "## Variables"
   ]
  },
  {
   "cell_type": "markdown",
   "metadata": {},
   "source": [
    "Typing the same thing over and over get old fast and is a great way to introduce typing errors. Variables reference an object"
   ]
  },
  {
   "cell_type": "code",
   "execution_count": 23,
   "metadata": {
    "collapsed": false
   },
   "outputs": [
    {
     "data": {
      "text/plain": [
       "'s'"
      ]
     },
     "execution_count": 23,
     "metadata": {},
     "output_type": "execute_result"
    }
   ],
   "source": [
    "y = 'star'\n",
    "y[0]"
   ]
  },
  {
   "cell_type": "code",
   "execution_count": 24,
   "metadata": {
    "collapsed": false
   },
   "outputs": [
    {
     "data": {
      "text/plain": [
       "'r'"
      ]
     },
     "execution_count": 24,
     "metadata": {},
     "output_type": "execute_result"
    }
   ],
   "source": [
    "y[-1]"
   ]
  },
  {
   "cell_type": "markdown",
   "metadata": {},
   "source": [
    "*Notice: negative indexing starts at the end of the container*"
   ]
  },
  {
   "cell_type": "code",
   "execution_count": 25,
   "metadata": {
    "collapsed": false
   },
   "outputs": [
    {
     "data": {
      "text/plain": [
       "13"
      ]
     },
     "execution_count": 25,
     "metadata": {},
     "output_type": "execute_result"
    }
   ],
   "source": [
    "y = 3\n",
    "z = 10\n",
    "y+z"
   ]
  },
  {
   "cell_type": "markdown",
   "metadata": {},
   "source": [
    "## Containers"
   ]
  },
  {
   "cell_type": "markdown",
   "metadata": {},
   "source": [
    "### List: defined with square brakets"
   ]
  },
  {
   "cell_type": "code",
   "execution_count": 26,
   "metadata": {
    "collapsed": true
   },
   "outputs": [],
   "source": [
    "my_list = [1, 2, 3]"
   ]
  },
  {
   "cell_type": "code",
   "execution_count": 27,
   "metadata": {
    "collapsed": true
   },
   "outputs": [],
   "source": [
    "my_list2 = ['a', 1, 'b', 'train']"
   ]
  },
  {
   "cell_type": "code",
   "execution_count": 28,
   "metadata": {
    "collapsed": false
   },
   "outputs": [
    {
     "data": {
      "text/plain": [
       "[1, 2, 3, 'a', 1, 'b', 'train']"
      ]
     },
     "execution_count": 28,
     "metadata": {},
     "output_type": "execute_result"
    }
   ],
   "source": [
    "my_list+my_list2"
   ]
  },
  {
   "cell_type": "code",
   "execution_count": 29,
   "metadata": {
    "collapsed": false
   },
   "outputs": [
    {
     "data": {
      "text/plain": [
       "[1, 2, 3, 1, 2, 3, 1, 2, 3]"
      ]
     },
     "execution_count": 29,
     "metadata": {},
     "output_type": "execute_result"
    }
   ],
   "source": [
    "my_list*3"
   ]
  },
  {
   "cell_type": "markdown",
   "metadata": {},
   "source": [
    "*Notice how similar this behavior is to strings*"
   ]
  },
  {
   "cell_type": "code",
   "execution_count": 30,
   "metadata": {
    "collapsed": false
   },
   "outputs": [
    {
     "data": {
      "text/plain": [
       "'train'"
      ]
     },
     "execution_count": 30,
     "metadata": {},
     "output_type": "execute_result"
    }
   ],
   "source": [
    "my_list2[3]"
   ]
  },
  {
   "cell_type": "markdown",
   "metadata": {},
   "source": [
    "### Numpy array"
   ]
  },
  {
   "cell_type": "code",
   "execution_count": 31,
   "metadata": {
    "collapsed": true
   },
   "outputs": [],
   "source": [
    "import numpy as np"
   ]
  },
  {
   "cell_type": "markdown",
   "metadata": {},
   "source": [
    "We are giving numpy a nickname so we don't have to type numpy every time"
   ]
  },
  {
   "cell_type": "code",
   "execution_count": 32,
   "metadata": {
    "collapsed": false
   },
   "outputs": [
    {
     "data": {
      "text/plain": [
       "array([1, 2, 3])"
      ]
     },
     "execution_count": 32,
     "metadata": {},
     "output_type": "execute_result"
    }
   ],
   "source": [
    "my_array = np.array(my_list)\n",
    "my_array"
   ]
  },
  {
   "cell_type": "markdown",
   "metadata": {},
   "source": [
    "np.array is a function - that means it takes and input and (usually) returns an output. In this case it is taking in a list and returning a numpy array. We can check this with the <code> type </code> function"
   ]
  },
  {
   "cell_type": "code",
   "execution_count": 33,
   "metadata": {
    "collapsed": false
   },
   "outputs": [
    {
     "data": {
      "text/plain": [
       "numpy.ndarray"
      ]
     },
     "execution_count": 33,
     "metadata": {},
     "output_type": "execute_result"
    }
   ],
   "source": [
    "type(my_array)"
   ]
  },
  {
   "cell_type": "code",
   "execution_count": 34,
   "metadata": {
    "collapsed": false
   },
   "outputs": [
    {
     "data": {
      "text/plain": [
       "list"
      ]
     },
     "execution_count": 34,
     "metadata": {},
     "output_type": "execute_result"
    }
   ],
   "source": [
    "type(my_list)"
   ]
  },
  {
   "cell_type": "markdown",
   "metadata": {},
   "source": [
    "# Exercise:"
   ]
  },
  {
   "cell_type": "markdown",
   "metadata": {},
   "source": [
    "1. Create your own numpy array using only numbers\n",
    "2. Experiment with different arithmatic operations\n",
    "3. How do arrays behave differently from lists?\n",
    "4. Does the numpy module have a <code>mean</code> function? How do you know?\n",
    "5. Find the mean of your array"
   ]
  },
  {
   "cell_type": "markdown",
   "metadata": {},
   "source": [
    "# Solution"
   ]
  },
  {
   "cell_type": "code",
   "execution_count": 35,
   "metadata": {
    "collapsed": false
   },
   "outputs": [
    {
     "name": "stdout",
     "output_type": "stream",
     "text": [
      "[2 4 6 8]\n",
      "[ 1  4  9 16]\n"
     ]
    }
   ],
   "source": [
    "my_array = np.array([1, 2, 3, 4])\n",
    "print(my_array * 2)\n",
    "print(my_array **2)"
   ]
  },
  {
   "cell_type": "markdown",
   "metadata": {},
   "source": [
    "Mathematically operations act on each element of the array. This is different from how lists operate"
   ]
  },
  {
   "cell_type": "code",
   "execution_count": 36,
   "metadata": {
    "collapsed": false
   },
   "outputs": [
    {
     "data": {
      "text/plain": [
       "<function numpy.core.fromnumeric.mean>"
      ]
     },
     "execution_count": 36,
     "metadata": {},
     "output_type": "execute_result"
    }
   ],
   "source": [
    "np.mean"
   ]
  },
  {
   "cell_type": "code",
   "execution_count": 37,
   "metadata": {
    "collapsed": false
   },
   "outputs": [
    {
     "data": {
      "text/plain": [
       "2.5"
      ]
     },
     "execution_count": 37,
     "metadata": {},
     "output_type": "execute_result"
    }
   ],
   "source": [
    "np.mean(my_array)"
   ]
  },
  {
   "cell_type": "markdown",
   "metadata": {},
   "source": [
    "# Attributes and Methods"
   ]
  },
  {
   "cell_type": "markdown",
   "metadata": {},
   "source": [
    "So far we have seen functions that belong to modules, but many objects carry information and actions around with them"
   ]
  },
  {
   "cell_type": "markdown",
   "metadata": {},
   "source": [
    "In the past we types:"
   ]
  },
  {
   "cell_type": "code",
   "execution_count": 38,
   "metadata": {
    "collapsed": false
   },
   "outputs": [
    {
     "data": {
      "text/plain": [
       "2.5"
      ]
     },
     "execution_count": 38,
     "metadata": {},
     "output_type": "execute_result"
    }
   ],
   "source": [
    "np.mean(my_array)"
   ]
  },
  {
   "cell_type": "markdown",
   "metadata": {},
   "source": [
    "But we can also use the mean function (or method) that is defined as part of the array object"
   ]
  },
  {
   "cell_type": "code",
   "execution_count": 39,
   "metadata": {
    "collapsed": false
   },
   "outputs": [
    {
     "data": {
      "text/plain": [
       "2.5"
      ]
     },
     "execution_count": 39,
     "metadata": {},
     "output_type": "execute_result"
    }
   ],
   "source": [
    "my_array.mean()"
   ]
  },
  {
   "cell_type": "markdown",
   "metadata": {},
   "source": [
    "Objects can also tell us something about themselves"
   ]
  },
  {
   "cell_type": "code",
   "execution_count": 40,
   "metadata": {
    "collapsed": false
   },
   "outputs": [
    {
     "data": {
      "text/plain": [
       "4"
      ]
     },
     "execution_count": 40,
     "metadata": {},
     "output_type": "execute_result"
    }
   ],
   "source": [
    "my_array.size"
   ]
  },
  {
   "cell_type": "markdown",
   "metadata": {},
   "source": [
    "tells us how many elements an array has"
   ]
  },
  {
   "cell_type": "code",
   "execution_count": null,
   "metadata": {
    "collapsed": true
   },
   "outputs": [],
   "source": []
  },
  {
   "cell_type": "markdown",
   "metadata": {},
   "source": [
    "# Loops and Printing"
   ]
  },
  {
   "cell_type": "code",
   "execution_count": 41,
   "metadata": {
    "collapsed": false
   },
   "outputs": [
    {
     "name": "stdout",
     "output_type": "stream",
     "text": [
      "one of my favorite stars is sirius\n",
      "one of my favorite stars is deneb\n",
      "one of my favorite stars is altair\n"
     ]
    }
   ],
   "source": [
    "my_favorite_stars = ['sirius', 'deneb', 'altair']\n",
    "for star in my_favorite_stars:\n",
    "    print('one of my favorite stars is', star)"
   ]
  },
  {
   "cell_type": "markdown",
   "metadata": {},
   "source": [
    "any time you make a loop it will have the format \"for variable in container:\" each time you go through the loop a different object from the container is put in the variable and then the operations within the loop are performed on the object in the variable. For example here we are looping over the objects in the container my_favorite_stars. Each time through the loop the variable star is set to be a different star name, then a sentence is printed using the star name that the variable star is pointing to."
   ]
  },
  {
   "cell_type": "markdown",
   "metadata": {},
   "source": [
    "# Conditional and formatting strings"
   ]
  },
  {
   "cell_type": "markdown",
   "metadata": {},
   "source": [
    "format:\n",
    "\n",
    "if *condition*:\n",
    "\n",
    "    do a\n",
    "\n",
    "elif *condition*:\n",
    "\n",
    "    do b\n",
    "\n",
    "else:\n",
    "\n",
    "    do c"
   ]
  },
  {
   "cell_type": "code",
   "execution_count": 1,
   "metadata": {
    "collapsed": false
   },
   "outputs": [
    {
     "name": "stdout",
     "output_type": "stream",
     "text": [
      "cygnus is my favorite constellation\n"
     ]
    }
   ],
   "source": [
    "constellation = 'cygnus'\n",
    "if constellation == 'cygnus':\n",
    "    print('cygnus is my favorite constellation')\n",
    "else:\n",
    "    print('{} is not my favorite constellation'.format(constellation))"
   ]
  },
  {
   "cell_type": "code",
   "execution_count": 2,
   "metadata": {
    "collapsed": false
   },
   "outputs": [
    {
     "name": "stdout",
     "output_type": "stream",
     "text": [
      "lyra is not my favorite constellation\n"
     ]
    }
   ],
   "source": [
    "constellation = 'lyra'\n",
    "if constellation == 'cygnus':\n",
    "    print('cygnus is my favorite constellation')\n",
    "else:\n",
    "    print('{} is not my favorite constellation'.format(constellation))"
   ]
  },
  {
   "cell_type": "markdown",
   "metadata": {},
   "source": [
    "# Functions"
   ]
  },
  {
   "cell_type": "markdown",
   "metadata": {},
   "source": [
    "Functions are the paragraphs of your code and many times can serve as the comments to. They make your code readable and reusable"
   ]
  },
  {
   "cell_type": "markdown",
   "metadata": {},
   "source": [
    "Lets say I want to write code to find the mean and median of a list"
   ]
  },
  {
   "cell_type": "code",
   "execution_count": 42,
   "metadata": {
    "collapsed": false
   },
   "outputs": [
    {
     "name": "stdout",
     "output_type": "stream",
     "text": [
      "4.625 4.5\n",
      "4.625 4.5\n"
     ]
    }
   ],
   "source": [
    "my_list = [1,2, 5, 7, 9, 4, 5, 4]\n",
    "#find the total \n",
    "total=0\n",
    "for num in my_list:\n",
    "    total = total + num\n",
    "#Calc mean\n",
    "mean = total/len(my_list)\n",
    "#Find median\n",
    "sorted_list = sorted(my_list)\n",
    "if len(my_list)%2==1:\n",
    "    median_indx = int(len(my_list)/2) #truncates\n",
    "    median = sorted_list[median_indx]\n",
    "else:\n",
    "    median_indx = int(len(my_list)/2)\n",
    "    median = (sorted_list[median_indx]+sorted_list[median_indx-1])/2.\n",
    "print(mean, median)\n",
    "print(np.mean(my_list), np.median(my_list))"
   ]
  },
  {
   "cell_type": "markdown",
   "metadata": {},
   "source": [
    "This is not easy to read"
   ]
  },
  {
   "cell_type": "code",
   "execution_count": 43,
   "metadata": {
    "collapsed": false
   },
   "outputs": [
    {
     "name": "stdout",
     "output_type": "stream",
     "text": [
      "4.625 4.5\n"
     ]
    }
   ],
   "source": [
    "def calc_total(my_list):\n",
    "    total=0\n",
    "    for num in my_list:\n",
    "        total = total + num\n",
    "    return total\n",
    "\n",
    "def calc_mean(my_list):\n",
    "    total = calc_total(my_list)\n",
    "    list_len = len(my_list)\n",
    "    mean = total/list_len\n",
    "    return mean\n",
    "    \n",
    "def calc_median(my_list):\n",
    "    sorted_list = sorted(my_list)\n",
    "    if len(my_list)%2==1:\n",
    "        median_indx = int(len(my_list)/2) #truncates\n",
    "        median = sorted_list[median_indx]\n",
    "    else:\n",
    "        median_indx = int(len(my_list)/2)\n",
    "        median = (sorted_list[median_indx]+sorted_list[median_indx-1])/2.\n",
    "    return median\n",
    "\n",
    "my_list = [1,2, 5, 7, 9, 4, 5, 4]\n",
    "mean = calc_mean(my_list)\n",
    "median = calc_median(my_list)\n",
    "print(mean, median)\n"
   ]
  },
  {
   "cell_type": "markdown",
   "metadata": {},
   "source": [
    "Why is this better?\n",
    "* Clear what lines do what, very little need for comments\n",
    "* easy to repeat with any list, I could even write a function called calc_mean_and_median that would further streamline the process\n",
    "* easy to reuse - for instance if I just want to total of the elements in a list, I already have a function for that\n",
    "* function names are explicit\n",
    "* variable names are explicity\n",
    "\n",
    "What would make it better? A doc string\n",
    "\n",
    "When you ask python for help with a module or function, python prints the docstring."
   ]
  },
  {
   "cell_type": "code",
   "execution_count": 44,
   "metadata": {
    "collapsed": false
   },
   "outputs": [
    {
     "name": "stdout",
     "output_type": "stream",
     "text": [
      "4.625 4.5\n"
     ]
    }
   ],
   "source": [
    "def calc_total(my_list):\n",
    "    '''\n",
    "    Calculate the sum of all elements in a list\n",
    "    Inputs: \n",
    "        my_list: list of numbers\n",
    "    Outputs:\n",
    "        total: sum of all elements in the input list\n",
    "    '''\n",
    "    total=0\n",
    "    for num in my_list:\n",
    "        total = total + num\n",
    "    return total\n",
    "\n",
    "def calc_mean(my_list):\n",
    "    '''\n",
    "    calculate the mean of an input list\n",
    "    Input:\n",
    "        my_list: a list of numbers\n",
    "    Output:\n",
    "        mean: the mean of the input list\n",
    "    '''\n",
    "    total = calc_total(my_list)\n",
    "    list_len = len(my_list)\n",
    "    mean = total/list_len\n",
    "    return mean\n",
    "    \n",
    "def calc_median(my_list):\n",
    "    '''\n",
    "    calculate the median of a list\n",
    "    Input:\n",
    "        my_list: a list of numbers\n",
    "    Output:\n",
    "        median: the median of the input list\n",
    "    '''\n",
    "    sorted_list = sorted(my_list)\n",
    "    if len(my_list)%2==1:\n",
    "        median_indx = int(len(my_list)/2) #int truncates\n",
    "        median = sorted_list[median_indx]\n",
    "    else:\n",
    "        median_indx = int(len(my_list)/2)\n",
    "        median = (sorted_list[median_indx]+sorted_list[median_indx-1])/2.\n",
    "    return median\n",
    "\n",
    "my_list = [1,2, 5, 7, 9, 4, 5, 4]\n",
    "mean = calc_mean(my_list)\n",
    "median = calc_median(my_list)\n",
    "print(mean, median)"
   ]
  },
  {
   "cell_type": "markdown",
   "metadata": {},
   "source": [
    "As you start writing python there is a document that describes coding conventions called PEP-8. It is extremely readable and I highly recommend it: <https://www.python.org/dev/peps/pep-0008/>"
   ]
  },
  {
   "cell_type": "markdown",
   "metadata": {},
   "source": [
    "# Exercise"
   ]
  },
  {
   "cell_type": "markdown",
   "metadata": {},
   "source": [
    "Write a function that takes a distance in parsecs and converts it to a distance in megaparsecs"
   ]
  },
  {
   "cell_type": "markdown",
   "metadata": {},
   "source": [
    "# Solution"
   ]
  },
  {
   "cell_type": "code",
   "execution_count": 53,
   "metadata": {
    "collapsed": false
   },
   "outputs": [
    {
     "data": {
      "text/plain": [
       "1.0"
      ]
     },
     "execution_count": 53,
     "metadata": {},
     "output_type": "execute_result"
    }
   ],
   "source": [
    "def convert_to_megaparsecs(dist_pc):\n",
    "    '''\n",
    "    Takes a distance in parsecs and converts it to mega parsecs\n",
    "    Inputs:\n",
    "        dist_pc: distance in parsecs\n",
    "    Outputs:\n",
    "        dist_mpc: distance in megaparsecs\n",
    "    '''\n",
    "    dist_mpc = dist_pc/10**6\n",
    "    return dist_mpc\n",
    "\n",
    "convert_to_megaparsecs(10**6)"
   ]
  },
  {
   "cell_type": "markdown",
   "metadata": {},
   "source": [
    "# Using Python for Data Analysis"
   ]
  },
  {
   "cell_type": "markdown",
   "metadata": {},
   "source": [
    "## Astropy\n",
    "<http://docs.astropy.org/en/stable/>\n",
    "* I/O - fits, ascii, HDF5, DAOPHOT and SEXTRACTOR files\n",
    "* Tables - cross between SQL database and Fits Table\n",
    "* Units and constants - conversion between units, combining units, hardcoded constants\n",
    "* Stats - sigma clipped statistics\n",
    "* WCS support - esp for header keywords and transformations\n",
    "* Time - MJD, convert to python datetime object\n",
    "* Modeling - create and fit complex models easily\n",
    "* Coordinates - coordinate transformation\n",
    "* Convolution - many pre-built kernels including gaussian and box\n",
    "* Visualization - zscale contrast limits\n",
    "\n",
    "## STScI Training\n",
    "good introduction to a number of astropy modules: <https://webcast.stsci.edu/webcast/searchresults.xhtml?searchtype=20&eventid=247&sortmode=2>\n",
    "\n",
    "Notebooks can be found here: <https://github.com/spacetelescope/JWSTUserTraining2016>\n",
    "\n",
    "\n",
    "Highly recommend:\n",
    "* Tables\n",
    "* Modeling\n",
    "* Photutils\n",
    "* imexam\n",
    "\n"
   ]
  },
  {
   "cell_type": "markdown",
   "metadata": {},
   "source": [
    "## Create a Hubble Diagram and Find H_0"
   ]
  },
  {
   "cell_type": "code",
   "execution_count": 45,
   "metadata": {
    "collapsed": true
   },
   "outputs": [],
   "source": [
    "from astropy.io import ascii\n",
    "from astropy import units"
   ]
  },
  {
   "cell_type": "markdown",
   "metadata": {},
   "source": [
    "### Read in table data"
   ]
  },
  {
   "cell_type": "code",
   "execution_count": 46,
   "metadata": {
    "collapsed": false
   },
   "outputs": [
    {
     "name": "stdout",
     "output_type": "stream",
     "text": [
      "M101 2011fe 13.310 0.117 29.135 0.045 -19.389 0.125 241\r\n",
      "N1015 2009ig 17.015 0.123 32.497 0.081 -19.047 0.147 2629  \r\n",
      "N1309 2002fk 16.756 0.116 32.523 0.055 -19.331 0.128 2136  \r\n",
      "N1365 2012fr 15.482 0.125 31.307 0.057 -19.390 0.137 1636  \r\n",
      "N1448 2001el 15.765 0.116 31.311 0.045 -19.111 0.125 1168  \r\n",
      "N2442 2015F 15.840 0.142 31.511 0.053 -19.236 0.152 1466\r\n",
      "N3021 1995al 16.527 0.117 32.498 0.090 -19.535 0.147 1541  \r\n",
      "N3370 1994ae 16.476 0.115 32.072 0.049 -19.161 0.125 1279  \r\n",
      "N3447 2012ht 16.265 0.124 31.908 0.043 -19.207 0.131 1067  \r\n",
      "N3972 2011by 16.048 0.116 31.587 0.070 -19.103 0.136 852  \r\n",
      "N3982 1998aq 15.795 0.115 31.737 0.069 -19.507 0.134 1109  \r\n",
      "N4038 2007sr 15.797 0.114 31.290 0.112 -19.058 0.160 1642  \r\n",
      "N4424 2012cg 15.110 0.109 31.080 0.292 -19.534 0.311 437  \r\n",
      "N4536 1981B 15.177 0.124 30.906 0.053 -19.293 0.135 1808\r\n",
      "N4639 1990N 15.983 0.115 31.532 0.071 -19.113 0.135 1018\r\n",
      "N5584 2007af 16.265 0.115 31.786 0.046 -19.085 0.124 1638  \r\n",
      "N5917 2005cf 16.572 0.115 32.263 0.102 -19.255 0.154 1904  \r\n",
      "N7250 2013dy 15.867 0.115 31.499 0.078 -19.196 0.139 1166  \r\n",
      "U9391 2003du 17.034 0.114 32.919 0.063 -19.449 0.130 1914\r\n"
     ]
    }
   ],
   "source": [
    "cat hubble_data.dat"
   ]
  },
  {
   "cell_type": "code",
   "execution_count": 47,
   "metadata": {
    "collapsed": false
   },
   "outputs": [],
   "source": [
    "tbdata = ascii.read('hubble_data.dat', names = ['galaxy', \n",
    "                                                'supernova', \n",
    "                                                'm', 'sig_m', \n",
    "                                                'dist_mod', 'sig_dist_mod', \n",
    "                                                'M', 'sig_M',\n",
    "                                               'velocity'])\n",
    "\n",
    "#Most data from Riess et al, 2016, velocity data from NED"
   ]
  },
  {
   "cell_type": "markdown",
   "metadata": {},
   "source": [
    "### Look at first row"
   ]
  },
  {
   "cell_type": "code",
   "execution_count": 48,
   "metadata": {
    "collapsed": false
   },
   "outputs": [
    {
     "data": {
      "text/html": [
       "&lt;Row index=0&gt;\n",
       "<table id=\"table4462970584\">\n",
       "<thead><tr><th>galaxy</th><th>supernova</th><th>m</th><th>sig_m</th><th>dist_mod</th><th>sig_dist_mod</th><th>M</th><th>sig_M</th><th>velocity</th></tr></thead>\n",
       "<thead><tr><th>str5</th><th>str6</th><th>float64</th><th>float64</th><th>float64</th><th>float64</th><th>float64</th><th>float64</th><th>int64</th></tr></thead>\n",
       "<tr><td>M101</td><td>2011fe</td><td>13.31</td><td>0.117</td><td>29.135</td><td>0.045</td><td>-19.389</td><td>0.125</td><td>241</td></tr>\n",
       "</table>"
      ],
      "text/plain": [
       "<Row index=0>\n",
       "galaxy supernova    m     sig_m  dist_mod sig_dist_mod    M     sig_M  velocity\n",
       " str5     str6   float64 float64 float64    float64    float64 float64  int64  \n",
       "------ --------- ------- ------- -------- ------------ ------- ------- --------\n",
       "  M101    2011fe   13.31   0.117   29.135        0.045 -19.389   0.125      241"
      ]
     },
     "execution_count": 48,
     "metadata": {},
     "output_type": "execute_result"
    }
   ],
   "source": [
    "tbdata[0]"
   ]
  },
  {
   "cell_type": "markdown",
   "metadata": {},
   "source": [
    "### Look at a column"
   ]
  },
  {
   "cell_type": "code",
   "execution_count": 49,
   "metadata": {
    "collapsed": false
   },
   "outputs": [
    {
     "data": {
      "text/html": [
       "&lt;Column name=&apos;supernova&apos; dtype=&apos;str6&apos; length=19&gt;\n",
       "<table>\n",
       "<tr><td>2011fe</td></tr>\n",
       "<tr><td>2009ig</td></tr>\n",
       "<tr><td>2002fk</td></tr>\n",
       "<tr><td>2012fr</td></tr>\n",
       "<tr><td>2001el</td></tr>\n",
       "<tr><td>2015F</td></tr>\n",
       "<tr><td>1995al</td></tr>\n",
       "<tr><td>1994ae</td></tr>\n",
       "<tr><td>2012ht</td></tr>\n",
       "<tr><td>2011by</td></tr>\n",
       "<tr><td>1998aq</td></tr>\n",
       "<tr><td>2007sr</td></tr>\n",
       "<tr><td>2012cg</td></tr>\n",
       "<tr><td>1981B</td></tr>\n",
       "<tr><td>1990N</td></tr>\n",
       "<tr><td>2007af</td></tr>\n",
       "<tr><td>2005cf</td></tr>\n",
       "<tr><td>2013dy</td></tr>\n",
       "<tr><td>2003du</td></tr>\n",
       "</table>"
      ],
      "text/plain": [
       "<Column name='supernova' dtype='str6' length=19>\n",
       "2011fe\n",
       "2009ig\n",
       "2002fk\n",
       "2012fr\n",
       "2001el\n",
       " 2015F\n",
       "1995al\n",
       "1994ae\n",
       "2012ht\n",
       "2011by\n",
       "1998aq\n",
       "2007sr\n",
       "2012cg\n",
       " 1981B\n",
       " 1990N\n",
       "2007af\n",
       "2005cf\n",
       "2013dy\n",
       "2003du"
      ]
     },
     "execution_count": 49,
     "metadata": {},
     "output_type": "execute_result"
    }
   ],
   "source": [
    "tbdata['supernova']"
   ]
  },
  {
   "cell_type": "markdown",
   "metadata": {},
   "source": [
    "### Plot the data"
   ]
  },
  {
   "cell_type": "code",
   "execution_count": 50,
   "metadata": {
    "collapsed": true
   },
   "outputs": [],
   "source": [
    "from matplotlib import pyplot\n",
    "%matplotlib inline"
   ]
  },
  {
   "cell_type": "code",
   "execution_count": 51,
   "metadata": {
    "collapsed": false
   },
   "outputs": [
    {
     "data": {
      "text/plain": [
       "[<matplotlib.lines.Line2D at 0x10ff0e320>]"
      ]
     },
     "execution_count": 51,
     "metadata": {},
     "output_type": "execute_result"
    },
    {
     "data": {
      "image/png": "[encoded data removed]",
      "text/plain": [
       "<matplotlib.figure.Figure at 0x10af68668>"
      ]
     },
     "metadata": {},
     "output_type": "display_data"
    }
   ],
   "source": [
    "pyplot.plot(tbdata['dist_mod'], tbdata['velocity'], 'o')"
   ]
  },
  {
   "cell_type": "markdown",
   "metadata": {},
   "source": [
    "# Exercise:"
   ]
  },
  {
   "cell_type": "markdown",
   "metadata": {},
   "source": [
    "Write a function to convert distance modulus into distance\n",
    "\n",
    "Remember: \n",
    "\n",
    "$DistMod = m - M = 5*log(d)-5$"
   ]
  },
  {
   "cell_type": "markdown",
   "metadata": {},
   "source": [
    "# Solution"
   ]
  },
  {
   "cell_type": "code",
   "execution_count": 73,
   "metadata": {
    "collapsed": true
   },
   "outputs": [],
   "source": [
    "def find_distance(dist_mod):\n",
    "    '''\n",
    "    find a distance given a distance modulus\n",
    "    Input:\n",
    "        dist_mod: distance modulus; can be single number or numpy array\n",
    "    Output:\n",
    "        dist: distance in parsecs\n",
    "    '''\n",
    "    dist = 10**((dist_mod+5)/5)\n",
    "    return dist"
   ]
  },
  {
   "cell_type": "code",
   "execution_count": 74,
   "metadata": {
    "collapsed": true
   },
   "outputs": [],
   "source": [
    "dist_pc = find_distance(tbdata['dist_mod'])"
   ]
  },
  {
   "cell_type": "markdown",
   "metadata": {},
   "source": [
    "Most important features:\n",
    "* descriptive function name\n",
    "* doc string\n",
    "* descriptive variable names"
   ]
  },
  {
   "cell_type": "markdown",
   "metadata": {},
   "source": [
    "### Convert distance to megaparsecs"
   ]
  },
  {
   "cell_type": "markdown",
   "metadata": {},
   "source": [
    "Can use our previous function:"
   ]
  },
  {
   "cell_type": "code",
   "execution_count": 75,
   "metadata": {
    "collapsed": false
   },
   "outputs": [],
   "source": [
    "def convert_to_megaparsecs(dist_pc):\n",
    "    '''\n",
    "    Takes a distance in parsecs and converts it to mega parsecs\n",
    "    Inputs:\n",
    "        dist_pc: distance in parsecs\n",
    "    Outputs:\n",
    "        dist_mpc: distance in megaparsecs\n",
    "    '''\n",
    "    dist_mpc = dist_pc/10**6\n",
    "    return dist_mpc"
   ]
  },
  {
   "cell_type": "code",
   "execution_count": 76,
   "metadata": {
    "collapsed": false
   },
   "outputs": [
    {
     "name": "stdout",
     "output_type": "stream",
     "text": [
      "   dist_mod  \n",
      "-------------\n",
      "6.71428852926\n",
      "31.5791182863\n",
      "31.9595017481\n",
      "18.2557634619\n",
      "18.2894228128\n",
      "20.0539533343\n",
      "31.5936643568\n",
      "25.9656979027\n",
      "24.0768684561\n",
      "20.7682546378\n",
      "22.2535857805\n",
      "18.1134009262\n",
      "16.4437172321\n",
      "15.1774915586\n",
      "20.2488330653\n",
      "22.7614539314\n",
      "28.3530641176\n",
      "19.9434367426\n",
      "38.3530582457\n"
     ]
    }
   ],
   "source": [
    "dist_mpc = convert_to_megaparsecs(dist_pc)\n",
    "print(dist_mpc)"
   ]
  },
  {
   "cell_type": "markdown",
   "metadata": {},
   "source": [
    "We can make our function more flexible to incoming units by using the astropy units package"
   ]
  },
  {
   "cell_type": "code",
   "execution_count": 77,
   "metadata": {
    "collapsed": true
   },
   "outputs": [],
   "source": [
    "def convert_to_megaparsecs2(dist):\n",
    "    '''\n",
    "    Takes a distance in any unit and converts it to mega parsecs\n",
    "    Inputs:\n",
    "        dist_pc: distance (must be a unit quanitity)\n",
    "    Outputs:\n",
    "        dist_mpc: distance in megaparsecs\n",
    "    '''\n",
    "    dist_mpc = dist.to(units.Mpc)\n",
    "    return dist_mpc"
   ]
  },
  {
   "cell_type": "code",
   "execution_count": 80,
   "metadata": {
    "collapsed": false
   },
   "outputs": [
    {
     "name": "stdout",
     "output_type": "stream",
     "text": [
      "[  6.71428853  31.57911829  31.95950175  18.25576346  18.28942281\n",
      "  20.05395333  31.59366436  25.9656979   24.07686846  20.76825464\n",
      "  22.25358578  18.11340093  16.44371723  15.17749156  20.24883307\n",
      "  22.76145393  28.35306412  19.94343674  38.35305825] Mpc\n"
     ]
    }
   ],
   "source": [
    "dist_pc = find_distance(tbdata['dist_mod'])*units.parsec\n",
    "dist_mpc2 = convert_to_megaparsecs2(dist_pc)\n",
    "print(dist_mpc2)"
   ]
  },
  {
   "cell_type": "markdown",
   "metadata": {},
   "source": [
    "# Exercise:"
   ]
  },
  {
   "cell_type": "markdown",
   "metadata": {},
   "source": [
    "Plot velocity (y) vs distance in Mpc (x)"
   ]
  },
  {
   "cell_type": "markdown",
   "metadata": {},
   "source": [
    "# Solution"
   ]
  },
  {
   "cell_type": "code",
   "execution_count": 83,
   "metadata": {
    "collapsed": false
   },
   "outputs": [
    {
     "data": {
      "text/plain": [
       "[<matplotlib.lines.Line2D at 0x1103b0400>]"
      ]
     },
     "execution_count": 83,
     "metadata": {},
     "output_type": "execute_result"
    },
    {
     "data": {
      "image/png": "[encoded data removed]",
      "text/plain": [
       "<matplotlib.figure.Figure at 0x10a038cc0>"
      ]
     },
     "metadata": {},
     "output_type": "display_data"
    }
   ],
   "source": [
    "pyplot.plot(dist_mpc, tbdata['velocity'], 'o')"
   ]
  },
  {
   "cell_type": "markdown",
   "metadata": {},
   "source": [
    "### Fit the data with a straight line"
   ]
  },
  {
   "cell_type": "code",
   "execution_count": 86,
   "metadata": {
    "collapsed": false
   },
   "outputs": [
    {
     "name": "stdout",
     "output_type": "stream",
     "text": [
      "[  53.6296996   186.40616205]\n"
     ]
    }
   ],
   "source": [
    "fit = np.polyfit(dist_mpc, tbdata['velocity'], 1)\n",
    "print(fit)"
   ]
  },
  {
   "cell_type": "markdown",
   "metadata": {},
   "source": [
    "### Plot data and fit"
   ]
  },
  {
   "cell_type": "code",
   "execution_count": 84,
   "metadata": {
    "collapsed": false
   },
   "outputs": [
    {
     "data": {
      "text/plain": [
       "[<matplotlib.lines.Line2D at 0x1106add30>]"
      ]
     },
     "execution_count": 84,
     "metadata": {},
     "output_type": "execute_result"
    },
    {
     "data": {
      "image/png": "[encoded data removed]",
      "text/plain": [
       "<matplotlib.figure.Figure at 0x11037e128>"
      ]
     },
     "metadata": {},
     "output_type": "display_data"
    }
   ],
   "source": [
    "pyplot.plot(dist_mpc, tbdata['velocity'], 'o')\n",
    "pyplot.plot(dist_mpc, np.polyval(fit, dist_mpc))"
   ]
  },
  {
   "cell_type": "markdown",
   "metadata": {
    "collapsed": true
   },
   "source": [
    "# Matplotlib  \n",
    "<http://matplotlib.org>"
   ]
  },
  {
   "cell_type": "code",
   "execution_count": 97,
   "metadata": {
    "collapsed": false
   },
   "outputs": [
    {
     "data": {
      "image/png": "[encoded data removed]",
      "text/plain": [
       "<matplotlib.figure.Figure at 0x111b91a58>"
      ]
     },
     "metadata": {},
     "output_type": "display_data"
    }
   ],
   "source": [
    "#Plot data with label\n",
    "pyplot.plot(dist_mpc, tbdata['velocity'], 'o', label = 'Data')\n",
    "#Plot fit with label\n",
    "pyplot.plot(dist_mpc, np.polyval(fit, dist_mpc), label = 'fit')\n",
    "#Label axes\n",
    "pyplot.xlabel('Distance (Mpc)')\n",
    "pyplot.ylabel(r'Velocity ($\\frac{km}{s}$)') #r means raw string\n",
    "#Add legend\n",
    "pyplot.legend(loc=2)\n",
    "#Title\n",
    "pyplot.title('Hubble Diagram')\n",
    "#Save\n",
    "pyplot.savefig('hubble_diagram.pdf')"
   ]
  },
  {
   "cell_type": "markdown",
   "metadata": {},
   "source": [
    "If time:\n",
    "* Errors and tracebacks\n",
    "* redo with figure object\n",
    "* show with %matplotlib notebook\n",
    "* move out of the notebook\n",
    "* code review"
   ]
  },
  {
   "cell_type": "code",
   "execution_count": null,
   "metadata": {
    "collapsed": true
   },
   "outputs": [],
   "source": []
  }
 ],
 "metadata": {
  "kernelspec": {
   "display_name": "Python 3",
   "language": "python",
   "name": "python3"
  },
  "language_info": {
   "codemirror_mode": {
    "name": "ipython",
    "version": 3
   },
   "file_extension": ".py",
   "mimetype": "text/x-python",
   "name": "python",
   "nbconvert_exporter": "python",
   "pygments_lexer": "ipython3",
   "version": "3.5.2"
  }
 },
 "nbformat": 4,
 "nbformat_minor": 0
}
